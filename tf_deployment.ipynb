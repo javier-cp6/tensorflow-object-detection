{
 "cells": [
  {
   "cell_type": "code",
   "execution_count": 1,
   "id": "7a5e8837",
   "metadata": {
    "tags": []
   },
   "outputs": [
    {
     "data": {
      "application/javascript": [
       "IPython.notebook.set_autosave_interval(0)"
      ]
     },
     "metadata": {},
     "output_type": "display_data"
    },
    {
     "name": "stdout",
     "output_type": "stream",
     "text": [
      "Autosave disabled\n"
     ]
    }
   ],
   "source": [
    "%autosave 0"
   ]
  },
  {
   "cell_type": "code",
   "execution_count": 2,
   "id": "29205405-bdcb-4e98-8474-49081c864214",
   "metadata": {
    "tags": []
   },
   "outputs": [],
   "source": [
    "from tensorflow.python.ops import gen_image_ops"
   ]
  },
  {
   "cell_type": "markdown",
   "id": "f9a6aba4-5166-4cf9-b7f8-360fdb1f8450",
   "metadata": {},
   "source": [
    "# TensorFlow Serving"
   ]
  },
  {
   "cell_type": "markdown",
   "id": "9857416c-4513-43fe-b08b-c88bffd9d5bd",
   "metadata": {},
   "source": [
    "The project involves the deployment of a machine learning model using TensorFlow Serving and a Flask-based gateway service. The application architecture comprises two main components: a Docker container housing TensorFlow Serving for serving the machine learning model, and a Flask application acting as the gateway service."
   ]
  },
  {
   "cell_type": "markdown",
   "id": "30ad0d4f-315a-494d-aafc-3e4963284456",
   "metadata": {
    "tags": []
   },
   "source": [
    "## 1. Load the trained model"
   ]
  },
  {
   "cell_type": "code",
   "execution_count": 3,
   "id": "139947e4-1705-49f9-9c69-907bc3d42b5a",
   "metadata": {
    "tags": []
   },
   "outputs": [],
   "source": [
    "import tensorflow as tf\n",
    "from tensorflow import keras"
   ]
  },
  {
   "cell_type": "markdown",
   "id": "f5984bf3-54e0-4c24-9f3d-04a53d7d9dab",
   "metadata": {},
   "source": [
    "Unzip the compressed folder containing the trained model (in TensorFlow SavedModel format)."
   ]
  },
  {
   "cell_type": "code",
   "execution_count": null,
   "id": "4f64eff9-2c85-4a94-b88e-2e8470a214c6",
   "metadata": {
    "tags": []
   },
   "outputs": [],
   "source": [
    "!tar -xf \"./exported_model.zip\"\n",
    "\n",
    "# Rename the folder as kangaroo_model\n",
    "!mv exported_model kangaroo_model"
   ]
  },
  {
   "cell_type": "code",
   "execution_count": null,
   "id": "185402fe-be12-480a-9137-4a995b771e75",
   "metadata": {
    "tags": []
   },
   "outputs": [],
   "source": [
    "# Explore the model\n",
    "!tree kangaroo_model"
   ]
  },
  {
   "cell_type": "markdown",
   "id": "97523220-e2d3-4307-86de-227b758bcfdb",
   "metadata": {},
   "source": [
    "```bash\n",
    "$ tree kangaroo_model\n",
    "\n",
    "kangaroo_model\n",
    "┣╸ assets\n",
    "┣╸ saved_model.pb\n",
    "┗╸ variables\n",
    "    ┣╸ variables.data-00000-of-00001\n",
    "    ┗╸ variables.index\n",
    "```"
   ]
  },
  {
   "cell_type": "code",
   "execution_count": null,
   "id": "35fa40d6-3de9-47c3-97f5-d8342694a9ba",
   "metadata": {
    "tags": []
   },
   "outputs": [],
   "source": [
    "!ls -lhr kangaroo_model"
   ]
  },
  {
   "cell_type": "markdown",
   "id": "04ee3034-7fcc-4cf0-8ef5-bd1e7980775a",
   "metadata": {
    "tags": []
   },
   "source": [
    "## 2. TensorFlow Serving with Docker"
   ]
  },
  {
   "cell_type": "markdown",
   "id": "b6ec093a-6695-49c8-a01a-a5bd486c6058",
   "metadata": {},
   "source": [
    "We can look what's inside in the saved model using the utility (`saved_model_cli`) from tensorflow and the command `saved_model_cli show --dir model-dir-name --all`. Running the command outputs few things but we are interested in the signature, specifically `signature_def['serving_default']`, which shows the inputs and outputs of the model. For instance, the example model has 1 input ( `inputs`) and 5 outputs (`detection_boxes`, `detection_classes`, `detection_scores`, `image_info`, and `num_detections`).    "
   ]
  },
  {
   "cell_type": "markdown",
   "id": "66bc21fe-4b65-41dc-9de8-5f40c7018816",
   "metadata": {},
   "source": [
    "```bash\n",
    "$ saved_model_cli show --dir kangaroo_model --all\n",
    "\n",
    "MetaGraphDef with tag-set: 'serve' contains the following SignatureDefs:\n",
    "\n",
    "signature_def['__saved_model_init_op']:\n",
    "  The given SavedModel SignatureDef contains the following input(s):\n",
    "  The given SavedModel SignatureDef contains the following output(s):\n",
    "    outputs['__saved_model_init_op'] tensor_info:\n",
    "        dtype: DT_INVALID\n",
    "        shape: unknown_rank\n",
    "        name: NoOp\n",
    "  Method name is: \n",
    "\n",
    "signature_def['serving_default']:\n",
    "  The given SavedModel SignatureDef contains the following input(s):\n",
    "    inputs['inputs'] tensor_info:\n",
    "        dtype: DT_UINT8\n",
    "        shape: (1, -1, -1, 3)\n",
    "        name: serving_default_inputs:0\n",
    "  The given SavedModel SignatureDef contains the following output(s):\n",
    "    outputs['detection_boxes'] tensor_info:\n",
    "        dtype: DT_FLOAT\n",
    "        shape: (1, 100, 4)\n",
    "        name: StatefulPartitionedCall:0\n",
    "    outputs['detection_classes'] tensor_info:\n",
    "        dtype: DT_INT32\n",
    "        shape: (1, 100)\n",
    "        name: StatefulPartitionedCall:1\n",
    "    outputs['detection_scores'] tensor_info:\n",
    "        dtype: DT_FLOAT\n",
    "        shape: (1, 100)\n",
    "        name: StatefulPartitionedCall:2\n",
    "    outputs['image_info'] tensor_info:\n",
    "        dtype: DT_FLOAT\n",
    "        shape: (1, 4, 2)\n",
    "        name: StatefulPartitionedCall:3\n",
    "    outputs['num_detections'] tensor_info:\n",
    "        dtype: DT_INT32\n",
    "        shape: (1)\n",
    "        name: StatefulPartitionedCall:4\n",
    "  Method name is: tensorflow/serving/predict\n",
    "\n",
    "Concrete Functions:\n",
    "  Function Name: 'inference_for_tflite'\n",
    "\n",
    "  Function Name: 'inference_from_image_bytes'\n",
    "\n",
    "  Function Name: 'inference_from_image_tensors'\n",
    "    Option #1\n",
    "      Callable with:\n",
    "        Argument #1\n",
    "          inputs: TensorSpec(shape=(1, None, None, 3), dtype=tf.uint8, name='inputs')\n",
    "\n",
    "  Function Name: 'inference_from_tf_example'\n",
    "```"
   ]
  },
  {
   "cell_type": "markdown",
   "id": "3cfec374-08d1-4115-9039-17c88b3b15f3",
   "metadata": {},
   "source": [
    "Run the model (`kangaroo_model`) with the prebuilt docker image `tensorflow/serving:2.7.0`:\n",
    "\n",
    "```bash\n",
    "$ docker run -it --rm \\\n",
    "  -p 8500:8500 \\\n",
    "  -v $(pwd)/kangaroo_model:/models/kangaroo_model/1 \\\n",
    "  -e MODEL_NAME=\"kangaroo_model\" \\\n",
    "  tensorflow/serving:2.7.0\n",
    "```\n",
    "\n",
    "* docker run -it --rm (to run the docker)\n",
    "* -p 8500:8500 (port mapping)\n",
    "* -v $(pwd)/kangaroo_model:/models/kangaroo_model/1 (volume mapping of absolute model directory to model directory inside the docker image. \"models/model_name/version\")\n",
    "* -e MODEL_NAME=\"kangaroo_model\" (set environment variable for docker image)\n",
    "* tensorflow/serving:2.7.0 (name of the image to run)"
   ]
  },
  {
   "cell_type": "markdown",
   "id": "6ec215ce-52a7-4112-b8a0-4eb2441f67bb",
   "metadata": {
    "tags": []
   },
   "source": [
    "### Establish gRPC Connection to TensorFlow Serving"
   ]
  },
  {
   "cell_type": "code",
   "execution_count": null,
   "id": "1588cca2",
   "metadata": {
    "tags": []
   },
   "outputs": [],
   "source": [
    "# Install required libraries\n",
    "!pip install grpcio==1.42.0 tensorflow-serving-api==2.7.0"
   ]
  },
  {
   "cell_type": "code",
   "execution_count": 5,
   "id": "78a456a7",
   "metadata": {
    "tags": []
   },
   "outputs": [],
   "source": [
    "import grpc\n",
    "\n",
    "import tensorflow as tf\n",
    "\n",
    "from tensorflow_serving.apis import prediction_service_pb2_grpc\n",
    "from tensorflow_serving.apis import predict_pb2"
   ]
  },
  {
   "cell_type": "markdown",
   "id": "dbd2f652-1113-4f32-b35a-6248d5d41e9e",
   "metadata": {
    "tags": []
   },
   "source": [
    "The stub is a client-side object that allows the code to make remote calls to the `PredictionService` using the specified communication channel."
   ]
  },
  {
   "cell_type": "code",
   "execution_count": 6,
   "id": "e09c215c",
   "metadata": {
    "tags": []
   },
   "outputs": [],
   "source": [
    "host = 'localhost:8500'\n",
    "\n",
    "channel = grpc.insecure_channel(host)\n",
    "\n",
    "stub = prediction_service_pb2_grpc.PredictionServiceStub(channel)"
   ]
  },
  {
   "cell_type": "code",
   "execution_count": 7,
   "id": "febc68b6-8052-4687-b85d-a556c3a2768a",
   "metadata": {
    "tags": []
   },
   "outputs": [],
   "source": [
    "# Preprocess input image using tf utils.\n",
    "import requests \n",
    "\n",
    "def preprocess_input_image(image_path, input_image_size):\n",
    "    image = tf.io.read_file(image_path)\n",
    "    image = tf.image.decode_image(image, channels=3)\n",
    "    image = tf.image.resize(image, input_image_size)\n",
    "    image = tf.expand_dims(image, axis=0)\n",
    "    image = tf.cast(image, dtype=tf.uint8)\n",
    "    image_np = image.numpy()\n",
    "    \n",
    "    return image_np\n",
    "\n",
    "def preprocess_input_image_from_url(image_url, input_image_size):\n",
    "    image = requests.get(image_url).content\n",
    "    image = tf.image.decode_image(image, channels=3)\n",
    "    image = tf.image.resize(image, input_image_size)\n",
    "    image = tf.expand_dims(image, axis=0)\n",
    "    image = tf.cast(image, dtype=tf.uint8)\n",
    "\n",
    "    image_np = image.numpy()\n",
    "    \n",
    "    return image_np \n",
    "\n",
    "\n",
    "HEIGHT, WIDTH = 256, 256\n",
    "input_image_size = (HEIGHT, WIDTH)\n",
    "\n",
    "# Set input image from path:\n",
    "image_path = \"./images/kangaroo-1.jpg\"\n",
    "image_np = preprocess_input_image(image_path, input_image_size)\n",
    "\n",
    "\n",
    "# Set input image from URL:\n",
    "image_url = \"https://ichef.bbci.co.uk/news/976/cpsprodpb/1622F/production/_96717609_mediaitem96715861.jpg\"\n",
    "image_np = preprocess_input_image_from_url(image_url, input_image_size)"
   ]
  },
  {
   "cell_type": "code",
   "execution_count": 8,
   "id": "6e9810d1",
   "metadata": {
    "tags": []
   },
   "outputs": [],
   "source": [
    "def np_to_protobuf(data):\n",
    "    return tf.make_tensor_proto(data, shape=data.shape)"
   ]
  },
  {
   "cell_type": "markdown",
   "id": "ad7db18e-aa68-462c-b7f8-e7b8992f4e3f",
   "metadata": {},
   "source": [
    "Tensorflow uses specical serving called `gRPC` protocol which is optimized to use binary data format. We need to convert the inputs for our prediction request into `protobuf` format."
   ]
  },
  {
   "cell_type": "markdown",
   "id": "c035b764-2107-4518-ac70-71969ca6918d",
   "metadata": {},
   "source": [
    "np_to_protobuf(image_np)\n",
    "\n",
    "```\n",
    "dtype: DT_UINT8\n",
    "tensor_shape {\n",
    "  dim {\n",
    "    size: 1\n",
    "  }\n",
    "  dim {\n",
    "    size: 256\n",
    "  }\n",
    "  dim {\n",
    "    size: 256\n",
    "  }\n",
    "  dim {\n",
    "    size: 3\n",
    "  }\n",
    "}\n",
    "tensor_content: \"\\242\\236k\\245\\237l\\...\n",
    "```"
   ]
  },
  {
   "cell_type": "markdown",
   "id": "54bbaa03-1d82-4b95-8dea-a5525e5c706b",
   "metadata": {
    "tags": []
   },
   "source": [
    "### Prepare Prediction Request"
   ]
  },
  {
   "cell_type": "markdown",
   "id": "0dea9296-4c6c-4dfd-9d77-de141f6156ce",
   "metadata": {},
   "source": [
    "`PredictRequest` is used to encapsulate the input data or parameters (model name, model's signature name, and input in `protobuf` format) that the client wants to send to the server when making a prediction."
   ]
  },
  {
   "cell_type": "code",
   "execution_count": 9,
   "id": "529838a6-f109-432f-bf77-d92f5fff9dae",
   "metadata": {
    "tags": []
   },
   "outputs": [],
   "source": [
    "def prepare_request(image_np):\n",
    "    pb_request = predict_pb2.PredictRequest()\n",
    "    pb_request.model_spec.name = 'kangaroo_model'\n",
    "    pb_request.model_spec.signature_name = 'serving_default'\n",
    "\n",
    "    pb_request.inputs['inputs'].CopyFrom(np_to_protobuf(image_np))\n",
    "    \n",
    "    return pb_request\n",
    "\n",
    "pb_request = prepare_request(image_np)"
   ]
  },
  {
   "cell_type": "markdown",
   "id": "138c5a4d-31bc-4b6a-9dd1-632ee902b683",
   "metadata": {},
   "source": [
    "pb_request\n",
    "```bash\n",
    "model_spec {\n",
    "  name: \"kangaroo_model\"\n",
    "  signature_name: \"serving_default\"\n",
    "}\n",
    "inputs {\n",
    "  key: \"inputs\"\n",
    "  value {\n",
    "    dtype: DT_UINT8\n",
    "    tensor_shape {\n",
    "      dim {\n",
    "        size: 1\n",
    "      }\n",
    "      dim {\n",
    "        size: 256\n",
    "      }\n",
    "      dim {\n",
    "        size: 256\n",
    "      }\n",
    "      dim {\n",
    "        size: 3\n",
    "      }\n",
    "    }\n",
    "    tensor_content: \"\\242\\236k\\245\\237l...\n",
    "```"
   ]
  },
  {
   "cell_type": "markdown",
   "id": "32578c96-96df-43ec-b346-7a28af99a909",
   "metadata": {},
   "source": [
    "### Make Prediction Request"
   ]
  },
  {
   "cell_type": "markdown",
   "id": "94b02eb9-415c-4248-a985-68994bb1ab47",
   "metadata": {},
   "source": [
    "The `Predict()` method returns a response object with a value in `Protobuf` format."
   ]
  },
  {
   "cell_type": "code",
   "execution_count": 10,
   "id": "6823df3d",
   "metadata": {
    "tags": []
   },
   "outputs": [],
   "source": [
    "pb_response = stub.Predict(pb_request, timeout=20.0)"
   ]
  },
  {
   "cell_type": "code",
   "execution_count": null,
   "id": "47da89b6-6662-4343-82e5-15b14676199e",
   "metadata": {
    "tags": []
   },
   "outputs": [],
   "source": [
    "pb_response"
   ]
  },
  {
   "cell_type": "markdown",
   "id": "2fb14248-d673-4193-8265-2d670520c0e9",
   "metadata": {
    "tags": []
   },
   "source": [
    "pb_response\n",
    "\n",
    "```\n",
    "outputs {\n",
    "  key: \"detection_boxes\"\n",
    "  value {\n",
    "    dtype: DT_FLOAT\n",
    "    tensor_shape {\n",
    "      dim {\n",
    "        size: 1\n",
    "      }\n",
    "      dim {\n",
    "        size: 100\n",
    "      }\n",
    "      dim {\n",
    "        size: 4\n",
    "      }\n",
    "    }\n",
    "    float_val: 43.23219299316406\n",
    "    float_val: 57.41709899902\n",
    "    ...\n",
    "```"
   ]
  },
  {
   "cell_type": "markdown",
   "id": "11513ae5-7143-4803-a232-908a74d9082f",
   "metadata": {
    "tags": []
   },
   "source": [
    "### Retrieve and Interpret Model Output"
   ]
  },
  {
   "cell_type": "code",
   "execution_count": null,
   "id": "4afd2a60-b62b-412c-bdf9-e3b6d6bcfc72",
   "metadata": {},
   "outputs": [],
   "source": [
    "# Install required libraries\n",
    "\n",
    "!pip install -q \"tf-models-official==2.10.0\"\n",
    "!pip install -U tensorflow-datasets==4.8.3\n",
    "!pip install Pillow==9.5.0"
   ]
  },
  {
   "cell_type": "code",
   "execution_count": 12,
   "id": "0c6eccf5-1adf-46c4-8ce8-4adadc6d6540",
   "metadata": {
    "tags": []
   },
   "outputs": [
    {
     "name": "stderr",
     "output_type": "stream",
     "text": [
      "C:\\Users\\Javier\\miniconda3\\envs\\ml-zoomcamp\\lib\\site-packages\\tensorflow_addons\\utils\\tfa_eol_msg.py:23: UserWarning: \n",
      "\n",
      "TensorFlow Addons (TFA) has ended development and introduction of new features.\n",
      "TFA has entered a minimal maintenance and release mode until a planned end of life in May 2024.\n",
      "Please modify downstream libraries to take dependencies from other repositories in our TensorFlow community (e.g. Keras, Keras-CV, and Keras-NLP). \n",
      "\n",
      "For more information see: https://github.com/tensorflow/addons/issues/2807 \n",
      "\n",
      "  warnings.warn(\n",
      "C:\\Users\\Javier\\miniconda3\\envs\\ml-zoomcamp\\lib\\site-packages\\tensorflow_addons\\utils\\ensure_tf_install.py:53: UserWarning: Tensorflow Addons supports using Python ops for all Tensorflow versions above or equal to 2.12.0 and strictly below 2.15.0 (nightly versions are not supported). \n",
      " The versions of TensorFlow you are currently using is 2.10.0 and is not supported. \n",
      "Some things might work, some things might not.\n",
      "If you were to encounter a bug, do not file an issue.\n",
      "If you want to make sure you're using a tested and supported configuration, either change the TensorFlow version or the TensorFlow Addons's version. \n",
      "You can find the compatibility matrix in TensorFlow Addon's readme:\n",
      "https://github.com/tensorflow/addons\n",
      "  warnings.warn(\n"
     ]
    }
   ],
   "source": [
    "import orbit\n",
    "import tensorflow_models as tfm\n",
    "\n",
    "from official.core import exp_factory\n",
    "from official.core import config_definitions as cfg\n",
    "from official.vision.serving import export_saved_model_lib\n",
    "from official.vision.ops.preprocess_ops import normalize_image\n",
    "from official.vision.ops.preprocess_ops import resize_and_crop_image\n",
    "from official.vision.utils.object_detection import visualization_utils\n",
    "from official.vision.dataloaders.tf_example_decoder import TfExampleDecoder\n",
    "\n",
    "import matplotlib.pyplot as plt"
   ]
  },
  {
   "cell_type": "code",
   "execution_count": 13,
   "id": "52eb957c-bf3a-4b71-bd5f-6f85dba73675",
   "metadata": {
    "tags": []
   },
   "outputs": [],
   "source": [
    "category_index={\n",
    "    1: {\n",
    "        'id': 1,\n",
    "        'name': 'kangaroo'\n",
    "       },\n",
    "}"
   ]
  },
  {
   "cell_type": "code",
   "execution_count": 15,
   "id": "31f62608-e660-4fc4-839f-a610e89def12",
   "metadata": {
    "tags": []
   },
   "outputs": [
    {
     "name": "stderr",
     "output_type": "stream",
     "text": [
      "C:\\Users\\Javier\\AppData\\Local\\Temp\\ipykernel_19052\\3730039926.py:25: UserWarning: Matplotlib is currently using agg, which is a non-GUI backend, so cannot show the figure.\n",
      "  plt.show()\n"
     ]
    }
   ],
   "source": [
    "plt.figure(figsize=(20, 20))\n",
    "min_score_thresh = 0.70  # Change minimum score for threshold\n",
    "\n",
    "result = pb_response.outputs\n",
    "\n",
    "visualization_utils.visualize_boxes_and_labels_on_image_array(  \n",
    "    image_np[0],\n",
    "    tf.make_ndarray(result['detection_boxes'])[0],\n",
    "    tf.make_ndarray(result['detection_classes'])[0],\n",
    "    tf.make_ndarray(result['detection_scores'])[0],\n",
    "    category_index=category_index,\n",
    "    use_normalized_coordinates=False,\n",
    "    max_boxes_to_draw=200,  # 200\n",
    "    min_score_thresh=min_score_thresh,\n",
    "    agnostic_mode=False,\n",
    "    instance_masks=None,\n",
    "    line_thickness=4\n",
    ")\n",
    "\n",
    "plt.imshow(image_np[0])\n",
    "plt.axis('off')\n",
    "plt.plot()\n",
    "plt.savefig(f\"./inferences/inference.jpg\", dpi=10)\n",
    "\n",
    "plt.show()"
   ]
  },
  {
   "cell_type": "code",
   "execution_count": 16,
   "id": "9eabe64d-bb20-4ac5-8b7c-b6abe084400b",
   "metadata": {
    "tags": []
   },
   "outputs": [
    {
     "data": {
      "image/jpeg": "[encoded data removed]",
      "text/plain": [
       "<IPython.core.display.Image object>"
      ]
     },
     "metadata": {},
     "output_type": "display_data"
    }
   ],
   "source": [
    "from IPython.display import Image, display\n",
    "\n",
    "inference_path = \"./inferences/inference.jpg\"\n",
    "\n",
    "# Display the saved image\n",
    "display(Image(filename=inference_path))"
   ]
  },
  {
   "cell_type": "markdown",
   "id": "958a677f-d319-4b9d-82b4-99fcecef2314",
   "metadata": {
    "tags": []
   },
   "source": [
    "### Test model on multiple images"
   ]
  },
  {
   "cell_type": "code",
   "execution_count": 17,
   "id": "dc79177f-1530-49f9-9b7f-e1e50d006a57",
   "metadata": {
    "tags": []
   },
   "outputs": [
    {
     "name": "stderr",
     "output_type": "stream",
     "text": [
      "C:\\Users\\Javier\\AppData\\Local\\Temp\\ipykernel_19052\\2864292801.py:39: UserWarning: Matplotlib is currently using agg, which is a non-GUI backend, so cannot show the figure.\n",
      "  plt.show()\n"
     ]
    }
   ],
   "source": [
    "import os\n",
    "import glob\n",
    "\n",
    "folder_path = \"./images\"\n",
    "\n",
    "image_files = glob.glob(os.path.join(folder_path, '*.jpg')) + glob.glob(os.path.join(folder_path, '*.png'))\n",
    "\n",
    "plt.figure(figsize=(20, 20))\n",
    "min_score_thresh = 0.70  # Change minimum score for threshold\n",
    "\n",
    "for i, image_path in enumerate(image_files):\n",
    "    image_np_test = preprocess_input_image(image_path, input_image_size)\n",
    "    \n",
    "    pb_request = prepare_request(image_np_test)\n",
    "\n",
    "    pb_response = stub.Predict(pb_request, timeout=20.0)\n",
    "\n",
    "    result = pb_response.outputs\n",
    "\n",
    "    visualization_utils.visualize_boxes_and_labels_on_image_array(  \n",
    "        image_np_test[0],\n",
    "        tf.make_ndarray(result['detection_boxes'])[0],\n",
    "        tf.make_ndarray(result['detection_classes'])[0],\n",
    "        tf.make_ndarray(result['detection_scores'])[0],\n",
    "        category_index=category_index,\n",
    "        use_normalized_coordinates=False,\n",
    "        max_boxes_to_draw=200,  # 200\n",
    "        min_score_thresh=min_score_thresh,\n",
    "        agnostic_mode=False,\n",
    "        instance_masks=None,\n",
    "        line_thickness=4\n",
    "    )\n",
    "    \n",
    "    plt.imshow(image_np_test[0])\n",
    "    plt.axis('off')\n",
    "    plt.plot()\n",
    "    plt.savefig(f\"./inferences/inference_{i}.jpg\", dpi=10)\n",
    "\n",
    "plt.show()"
   ]
  },
  {
   "cell_type": "code",
   "execution_count": 18,
   "id": "ea6cebae-71d6-4c98-a520-ecde2547ad15",
   "metadata": {
    "tags": []
   },
   "outputs": [
    {
     "data": {
      "image/jpeg": "[encoded data removed]",
      "text/plain": [
       "<IPython.core.display.Image object>"
      ]
     },
     "metadata": {},
     "output_type": "display_data"
    },
    {
     "data": {
      "image/jpeg": "[encoded data removed]",
      "text/plain": [
       "<IPython.core.display.Image object>"
      ]
     },
     "metadata": {},
     "output_type": "display_data"
    },
    {
     "data": {
      "image/jpeg": "[encoded data removed]",
      "text/plain": [
       "<IPython.core.display.Image object>"
      ]
     },
     "metadata": {},
     "output_type": "display_data"
    },
    {
     "data": {
      "image/jpeg": "[encoded data removed]",
      "text/plain": [
       "<IPython.core.display.Image object>"
      ]
     },
     "metadata": {},
     "output_type": "display_data"
    },
    {
     "data": {
      "image/jpeg": "[encoded data removed]",
      "text/plain": [
       "<IPython.core.display.Image object>"
      ]
     },
     "metadata": {},
     "output_type": "display_data"
    },
    {
     "data": {
      "image/jpeg": "[encoded data removed]",
      "text/plain": [
       "<IPython.core.display.Image object>"
      ]
     },
     "metadata": {},
     "output_type": "display_data"
    },
    {
     "data": {
      "image/jpeg": "[encoded data removed]",
      "text/plain": [
       "<IPython.core.display.Image object>"
      ]
     },
     "metadata": {},
     "output_type": "display_data"
    },
    {
     "data": {
      "image/jpeg": "[encoded data removed]",
      "text/plain": [
       "<IPython.core.display.Image object>"
      ]
     },
     "metadata": {},
     "output_type": "display_data"
    },
    {
     "data": {
      "image/jpeg": "[encoded data removed]",
      "text/plain": [
       "<IPython.core.display.Image object>"
      ]
     },
     "metadata": {},
     "output_type": "display_data"
    },
    {
     "data": {
      "image/jpeg": "[encoded data removed]",
      "text/plain": [
       "<IPython.core.display.Image object>"
      ]
     },
     "metadata": {},
     "output_type": "display_data"
    }
   ],
   "source": [
    "from IPython.display import Image, display\n",
    "\n",
    "inference_path = \"./inferences\"\n",
    "\n",
    "inference_image_files = glob.glob(os.path.join(inference_path, '*.jpg')) + glob.glob(os.path.join(inference_path, '*.png'))\n",
    "\n",
    "# Display saved images\n",
    "for i, inference_image in enumerate(inference_image_files):\n",
    "    display(Image(filename=inference_image))"
   ]
  },
  {
   "cell_type": "markdown",
   "id": "16f9f660-90ff-4002-b5e6-97574a535e03",
   "metadata": {
    "tags": []
   },
   "source": [
    "## 3. Creating a gateway service with Flask"
   ]
  },
  {
   "cell_type": "markdown",
   "id": "59b00a37-0816-4224-be2f-83d2aff34ae6",
   "metadata": {},
   "source": [
    "The application consists of two components: a `Docker container` with Tensorflow Serving and a `Flask application` with the gateway service (which will be dockerized in the next section)."
   ]
  },
  {
   "cell_type": "markdown",
   "id": "166c09a8-3363-4e25-aabe-73104ed43c95",
   "metadata": {},
   "source": [
    "Save the code of the previous sections into a Flask app. The `gateway.py` script includes functions to preprocess the input image, prepare request, send request, and prepare response.\n",
    "\n",
    "```python\n",
    "app = Flask(\"gateway\")\n",
    "\n",
    "@app.route(\"/predict\", methods=[\"POST\"])\n",
    "def predict_endpoint():\n",
    "    data = request.get_json()\n",
    "    url = data[\"url\"]\n",
    "    result = predict(url)\n",
    "\n",
    "    return jsonify(result)\n",
    "```\n",
    "\n",
    "Since Tensorflow is a large library, we can use the `proto.py` script instead to convert numpy array into protobuf format. Import the `np_to_protobuf` function into our `gateway.py` script. For this, we will need to install `tensorflow-protobuf==2.7.0` ([tensorflow-protobuf](https://github.com/alexeygrigorev/tensorflow-protobuf)) and `protobuf==3.19`. We also use NumPy and Pillow for image preprocessing instead of TensorFlow utils.\n",
    "\n",
    "In order to put everything in a `pipenv` environment for deployment, install the following libraries: \n",
    "\n",
    "```bash\n",
    "$ pipenv install grpcio==1.42.0 flask gunicorn tensorflow-protobuf==2.7.0 protobuf==3.19 requests pillow==9.5.0 numpy\n",
    "```"
   ]
  },
  {
   "cell_type": "markdown",
   "id": "f8a4182c-ec2e-4e66-aaf7-3adafdba7a77",
   "metadata": {},
   "source": [
    "Run the model using the prebuilt Docker image with TensorFlow Serving, as explained in the previous section, and the Flask app `gateway.py` within the Pipenv environment:\n",
    "\n",
    "```bash\n",
    "$ pipenv shell\n",
    "$ python gateway.py\n",
    "```\n",
    "\n",
    "Test the gateway with the `test.py` script:\n",
    "\n",
    "```\n",
    "$ python test.py\n",
    "\n",
    "{'detection_boxes': [[35.14519500732422, 58.22978210449219, 192.72650146484375, 231.2527618408203], [27.200538635253906, 31.341506958007812, 256.0, 193.9303741455078], [59.97596740722656, 88.12405395507812, 210.4847869873047, 197.08651733398438], [37.73935317993164, 71.75199890136719, 145.4170379638672, 195.84808349609375], [55.022037506103516, 64.40953063964844, 99.29978942871094, 105.39948272705078], [102.12481689453125, 69.70646667480469, 222.62777709960938, 174.2012176513672], [63.597225189208984, 66.47791290283203, 105.66650390625, 90.24641418457031], [212.4785919189453, 11.457980155944824, 246.3284454345703, 31.470073699951172], [151.5824737548828, 106.23762512207031, 218.55007934570312, 144.2154541015625], [137.12179565429688, 114.39778137207031, 203.7748260498047, 160.0428009033203], [53.99766540527344, 62.74945068359375, 105.33444213867188, 136.0169219970703], [35.56243133544922, 0.5376167297363281, 74.31259155273438, 23.980180740356445], [42.10578155517578, 0.6401309967041016, 95.25769805908203, 39.71879577636719], [71.41671752929688, 58.42420959472656, 115.92938232421875, 102.091796875], [212.47254943847656, 19.378944396972656, 249.26095581054688, 40.61579513549805], [0.0, 0.0, 0.0, 0.0], [0.0, 0.0, 0.0, 0.0], [0.0, 0.0, 0.0, 0.0], [0.0, 0.0, 0.0, 0.0], [0.0, 0.0, 0.0, 0.0], [0.0, 0.0, 0.0, 0.0], [0.0, 0.0, 0.0, 0.0], [0.0, 0.0, 0.0, 0.0], [0.0, 0.0, 0.0, 0.0], [0.0, 0.0, 0.0, 0.0], [0.0, 0.0, 0.0, 0.0], [0.0, 0.0, 0.0, 0.0], [0.0, 0.0, 0.0, 0.0], [0.0, 0.0, 0.0, 0.0], [0.0, 0.0, 0.0, 0.0], [0.0, 0.0, 0.0, 0.0], [0.0, 0.0, 0.0, 0.0], [0.0, 0.0, 0.0, 0.0], [0.0, 0.0, 0.0, 0.0], [0.0, 0.0, 0.0, 0.0], [0.0, 0.0, 0.0, 0.0], [0.0, 0.0, 0.0, 0.0], [0.0, 0.0, 0.0, 0.0], [0.0, 0.0, 0.0, 0.0], [0.0, 0.0, 0.0, 0.0], [0.0, 0.0, 0.0, 0.0], [0.0, 0.0, 0.0, 0.0], [0.0, 0.0, 0.0, 0.0], [0.0, 0.0, 0.0, 0.0], [0.0, 0.0, 0.0, 0.0], [0.0, 0.0, 0.0, 0.0], [0.0, 0.0, 0.0, 0.0], [0.0, 0.0, 0.0, 0.0], [0.0, 0.0, 0.0, 0.0], [0.0, 0.0, 0.0, 0.0], [0.0, 0.0, 0.0, 0.0], [0.0, 0.0, 0.0, 0.0], [0.0, 0.0, 0.0, 0.0], [0.0, 0.0, 0.0, 0.0], [0.0, 0.0, 0.0, 0.0], [0.0, 0.0, 0.0, 0.0], [0.0, 0.0, 0.0, 0.0], [0.0, 0.0, 0.0, 0.0], [0.0, 0.0, 0.0, 0.0], [0.0, 0.0, 0.0, 0.0], [0.0, 0.0, 0.0, 0.0], [0.0, 0.0, 0.0, 0.0], [0.0, 0.0, 0.0, 0.0], [0.0, 0.0, 0.0, 0.0], [0.0, 0.0, 0.0, 0.0], [0.0, 0.0, 0.0, 0.0], [0.0, 0.0, 0.0, 0.0], [0.0, 0.0, 0.0, 0.0], [0.0, 0.0, 0.0, 0.0], [0.0, 0.0, 0.0, 0.0], [0.0, 0.0, 0.0, 0.0], [0.0, 0.0, 0.0, 0.0], [0.0, 0.0, 0.0, 0.0], [0.0, 0.0, 0.0, 0.0], [0.0, 0.0, 0.0, 0.0], [0.0, 0.0, 0.0, 0.0], [0.0, 0.0, 0.0, 0.0], [0.0, 0.0, 0.0, 0.0], [0.0, 0.0, 0.0, 0.0], [0.0, 0.0, 0.0, 0.0], [0.0, 0.0, 0.0, 0.0], [0.0, 0.0, 0.0, 0.0], [0.0, 0.0, 0.0, 0.0], [0.0, 0.0, 0.0, 0.0], [0.0, 0.0, 0.0, 0.0], [0.0, 0.0, 0.0, 0.0], [0.0, 0.0, 0.0, 0.0], [0.0, 0.0, 0.0, 0.0], [0.0, 0.0, 0.0, 0.0], [0.0, 0.0, 0.0, 0.0], [0.0, 0.0, 0.0, 0.0], [0.0, 0.0, 0.0, 0.0], [0.0, 0.0, 0.0, 0.0], [0.0, 0.0, 0.0, 0.0], [0.0, 0.0, 0.0, 0.0], [0.0, 0.0, 0.0, 0.0], [0.0, 0.0, 0.0, 0.0], [0.0, 0.0, 0.0, 0.0], [0.0, 0.0, 0.0, 0.0], [0.0, 0.0, 0.0, 0.0]], 'detection_classes': [1, 1, 1, 1, 1, 1, 1, 1, 1, 1, 1, 1, 1, 1, 1, 1, 1, 1, 1, 1, 1, 1, 1, 1, 1, 1, 1, 1, 1, 1, 1, 1, 1, 1, 1, 1, 1, 1, 1, 1, 1, 1, 1, 1, 1, 1, 1, 1, 1, 1, 1, 1, 1, 1, 1, 1, 1, 1, 1, 1, 1, 1, 1, 1, 1, 1, 1, 1, 1, 1, 1, 1, 1, 1, 1, 1, 1, 1, 1, 1, 1, 1, 1, 1, 1, 1, 1, 1, 1, 1, 1, 1, 1, 1, 1, 1, 1, 1, 1, 1], 'detection_scores': [0.5343912243843079, 0.14186212420463562, 0.1373942792415619, 0.11964446306228638, 0.07809022068977356, 0.07575884461402893, 0.07342135906219482, 0.0635799765586853, 0.062283337116241455, 0.05808436870574951, 0.05721864104270935, 0.05665856599807739, 0.05394500494003296, 0.05324357748031616, 0.051360249519348145, -0.0, -0.0, -0.0, -0.0, -0.0, -0.0, -0.0, -0.0, -0.0, -0.0, -0.0, -0.0, -0.0, -0.0, -0.0, -0.0, -0.0, -0.0, -0.0, -0.0, -0.0, -0.0, -0.0, -0.0, -0.0, -0.0, -0.0, -0.0, -0.0, -0.0, -0.0, -0.0, -0.0, -0.0, -0.0, -0.0, -0.0, -0.0, -0.0, -0.0, -0.0, -0.0, -0.0, -0.0, -0.0, -0.0, -0.0, -0.0, -0.0, -0.0, -0.0, -0.0, -0.0, -0.0, -0.0, -0.0, -0.0, -0.0, -0.0, -0.0, -0.0, -0.0, -0.0, -0.0, -0.0, -0.0, -0.0, -0.0, -0.0, -0.0, -0.0, -0.0, -0.0, -0.0, -0.0, -0.0, -0.0, -0.0, -0.0, -0.0, -0.0, -0.0, -0.0, -0.0, -0.0], 'image_info': [256.0, 256.0, 256.0, 256.0, 1.0, 1.0, 0.0, 0.0], 'num_detections': [15]}\n",
    "```"
   ]
  },
  {
   "cell_type": "markdown",
   "id": "74b1db93-8b05-456c-9de4-c9406e6d135d",
   "metadata": {
    "tags": []
   },
   "source": [
    "### Make a prediction request to the Flask App"
   ]
  },
  {
   "cell_type": "code",
   "execution_count": 1,
   "id": "e8b1e575-bba0-4417-9540-59aa0abc6a5f",
   "metadata": {
    "tags": []
   },
   "outputs": [],
   "source": [
    "import requests\n",
    "\n",
    "image_url = \"https://images.unsplash.com/photo-1551270988-87c5ea57cdfe\"\n",
    "\n",
    "url = \"http://localhost:9696/predict\"\n",
    "\n",
    "data = {\n",
    "    \"url\": image_url\n",
    "}\n",
    "\n",
    "result = requests.post(url, json=data).json()\n",
    "# print(result)"
   ]
  },
  {
   "cell_type": "code",
   "execution_count": 2,
   "id": "e1f36f52-9dc5-48b6-aaac-19e3e4b52a29",
   "metadata": {
    "tags": []
   },
   "outputs": [
    {
     "name": "stderr",
     "output_type": "stream",
     "text": [
      "C:\\Users\\Javier\\miniconda3\\envs\\ml-zoomcamp\\lib\\site-packages\\tensorflow_addons\\utils\\tfa_eol_msg.py:23: UserWarning: \n",
      "\n",
      "TensorFlow Addons (TFA) has ended development and introduction of new features.\n",
      "TFA has entered a minimal maintenance and release mode until a planned end of life in May 2024.\n",
      "Please modify downstream libraries to take dependencies from other repositories in our TensorFlow community (e.g. Keras, Keras-CV, and Keras-NLP). \n",
      "\n",
      "For more information see: https://github.com/tensorflow/addons/issues/2807 \n",
      "\n",
      "  warnings.warn(\n",
      "C:\\Users\\Javier\\miniconda3\\envs\\ml-zoomcamp\\lib\\site-packages\\tensorflow_addons\\utils\\ensure_tf_install.py:53: UserWarning: Tensorflow Addons supports using Python ops for all Tensorflow versions above or equal to 2.12.0 and strictly below 2.15.0 (nightly versions are not supported). \n",
      " The versions of TensorFlow you are currently using is 2.10.0 and is not supported. \n",
      "Some things might work, some things might not.\n",
      "If you were to encounter a bug, do not file an issue.\n",
      "If you want to make sure you're using a tested and supported configuration, either change the TensorFlow version or the TensorFlow Addons's version. \n",
      "You can find the compatibility matrix in TensorFlow Addon's readme:\n",
      "https://github.com/tensorflow/addons\n",
      "  warnings.warn(\n"
     ]
    }
   ],
   "source": [
    "import orbit\n",
    "import tensorflow_models as tfm\n",
    "\n",
    "from official.core import exp_factory\n",
    "from official.core import config_definitions as cfg\n",
    "from official.vision.serving import export_saved_model_lib\n",
    "from official.vision.ops.preprocess_ops import normalize_image\n",
    "from official.vision.ops.preprocess_ops import resize_and_crop_image\n",
    "from official.vision.utils.object_detection import visualization_utils\n",
    "from official.vision.dataloaders.tf_example_decoder import TfExampleDecoder"
   ]
  },
  {
   "cell_type": "code",
   "execution_count": 3,
   "id": "9f36c776-70c0-4a38-851b-4cd6af757d90",
   "metadata": {
    "tags": []
   },
   "outputs": [],
   "source": [
    "import io\n",
    "from PIL import Image\n",
    "import numpy as np"
   ]
  },
  {
   "cell_type": "code",
   "execution_count": 4,
   "id": "1b7788c4-ae14-4c9b-ac90-788fcbc9d300",
   "metadata": {
    "tags": []
   },
   "outputs": [],
   "source": [
    "def preprocess_input_image_from_url(image_url, input_image_size):\n",
    "    response = requests.get(image_url)\n",
    "    image = Image.open(io.BytesIO(response.content))\n",
    "    image = image.resize(input_image_size)\n",
    "    image_np = np.array(image)\n",
    "    image_np = np.expand_dims(image_np, axis=0)\n",
    "\n",
    "    image_np = image_np.astype(np.uint8)\n",
    "\n",
    "    return image_np"
   ]
  },
  {
   "cell_type": "code",
   "execution_count": 5,
   "id": "60853967-f14e-447c-8222-1f038cda6635",
   "metadata": {
    "tags": []
   },
   "outputs": [
    {
     "name": "stderr",
     "output_type": "stream",
     "text": [
      "C:\\Users\\Javier\\AppData\\Local\\Temp\\ipykernel_12848\\924966402.py:37: UserWarning: Matplotlib is currently using agg, which is a non-GUI backend, so cannot show the figure.\n",
      "  plt.show()\n"
     ]
    }
   ],
   "source": [
    "import matplotlib.pyplot as plt\n",
    "\n",
    "HEIGHT, WIDTH = 256, 256\n",
    "input_image_size = (HEIGHT, WIDTH)\n",
    "\n",
    "image_np = preprocess_input_image_from_url(image_url, input_image_size)\n",
    "\n",
    "category_index={\n",
    "    1: {\n",
    "        'id': 1,\n",
    "        'name': 'kangaroo'\n",
    "       },\n",
    "}\n",
    "\n",
    "plt.figure(figsize=(20, 20))\n",
    "min_score_thresh = 0.70  \n",
    "\n",
    "visualization_utils.visualize_boxes_and_labels_on_image_array(  \n",
    "    image_np[0],    \n",
    "    np.array(result['detection_boxes']),\n",
    "    np.array(result['detection_classes']),\n",
    "    np.array(result['detection_scores']), \n",
    "    category_index=category_index,\n",
    "    use_normalized_coordinates=False,\n",
    "    max_boxes_to_draw=200,  # 200\n",
    "    min_score_thresh=min_score_thresh,\n",
    "    agnostic_mode=False,\n",
    "    instance_masks=None,\n",
    "    line_thickness=4\n",
    ")\n",
    "\n",
    "plt.imshow(image_np[0])\n",
    "plt.axis('off')\n",
    "plt.plot()\n",
    "plt.savefig(f\"./inferences/inference_flask.jpg\", dpi=10)\n",
    "\n",
    "plt.show()"
   ]
  },
  {
   "cell_type": "code",
   "execution_count": 6,
   "id": "282b89d9-0c8f-4635-a061-cca26870513b",
   "metadata": {},
   "outputs": [
    {
     "data": {
      "image/jpeg": "[encoded data removed]",
      "text/plain": [
       "<IPython.core.display.Image object>"
      ]
     },
     "metadata": {},
     "output_type": "display_data"
    }
   ],
   "source": [
    "from IPython.display import Image, display\n",
    "\n",
    "inference_path = \"./inferences/inference_flask.jpg\"\n",
    "display(Image(filename=inference_path))"
   ]
  }
 ],
 "metadata": {
  "kernelspec": {
   "display_name": "Python 3 (ipykernel)",
   "language": "python",
   "name": "python3"
  },
  "language_info": {
   "codemirror_mode": {
    "name": "ipython",
    "version": 3
   },
   "file_extension": ".py",
   "mimetype": "text/x-python",
   "name": "python",
   "nbconvert_exporter": "python",
   "pygments_lexer": "ipython3",
   "version": "3.9.18"
  }
 },
 "nbformat": 4,
 "nbformat_minor": 5
}

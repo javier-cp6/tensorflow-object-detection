{
 "cells": [
  {
   "cell_type": "markdown",
   "metadata": {
    "id": "z7JonuJWhK_k"
   },
   "source": [
    "# Kangaroo dataset"
   ]
  },
  {
   "cell_type": "markdown",
   "metadata": {},
   "source": [
    "Run this notebook in Google Colab. "
   ]
  },
  {
   "cell_type": "markdown",
   "metadata": {
    "id": "UaUG3D6m_FEY"
   },
   "source": [
    "## Clone and install the Tensorflow Object Detection API"
   ]
  },
  {
   "cell_type": "code",
   "execution_count": null,
   "metadata": {
    "id": "xbkuAjhU-3e6"
   },
   "outputs": [],
   "source": [
    "!git clone https://github.com/tensorflow/models.git"
   ]
  },
  {
   "cell_type": "code",
   "execution_count": null,
   "metadata": {
    "id": "ukzhAgID_gyP"
   },
   "outputs": [],
   "source": [
    "%cd /content/models/research/\n",
    "!protoc object_detection/protos/*.proto --python_out=.\n",
    "# Install TensorFlow Object Detection API.\n",
    "!cp object_detection/packages/tf2/setup.py .\n",
    "!python -m pip install ."
   ]
  },
  {
   "cell_type": "markdown",
   "metadata": {
    "id": "jkZtxPYCXLHu"
   },
   "source": [
    "Run model builder test"
   ]
  },
  {
   "cell_type": "code",
   "execution_count": 3,
   "metadata": {
    "colab": {
     "base_uri": "https://localhost:8080/"
    },
    "collapsed": true,
    "id": "XzfZSmpSXMxS",
    "jupyter": {
     "outputs_hidden": true
    },
    "outputId": "9c8f0443-56bd-4a60-a0fd-dfc49fc72ed6",
    "tags": []
   },
   "outputs": [
    {
     "name": "stdout",
     "output_type": "stream",
     "text": [
      "2024-01-25 21:05:30.719425: E external/local_xla/xla/stream_executor/cuda/cuda_dnn.cc:9261] Unable to register cuDNN factory: Attempting to register factory for plugin cuDNN when one has already been registered\n",
      "2024-01-25 21:05:30.719474: E external/local_xla/xla/stream_executor/cuda/cuda_fft.cc:607] Unable to register cuFFT factory: Attempting to register factory for plugin cuFFT when one has already been registered\n",
      "2024-01-25 21:05:30.720792: E external/local_xla/xla/stream_executor/cuda/cuda_blas.cc:1515] Unable to register cuBLAS factory: Attempting to register factory for plugin cuBLAS when one has already been registered\n",
      "2024-01-25 21:05:30.727834: I tensorflow/core/platform/cpu_feature_guard.cc:182] This TensorFlow binary is optimized to use available CPU instructions in performance-critical operations.\n",
      "To enable the following instructions: AVX2 AVX512F FMA, in other operations, rebuild TensorFlow with the appropriate compiler flags.\n",
      "2024-01-25 21:05:31.671982: W tensorflow/compiler/tf2tensorrt/utils/py_utils.cc:38] TF-TRT Warning: Could not find TensorRT\n",
      "2024-01-25 21:05:34.641883: I external/local_xla/xla/stream_executor/cuda/cuda_executor.cc:901] successful NUMA node read from SysFS had negative value (-1), but there must be at least one NUMA node, so returning NUMA node zero. See more at https://github.com/torvalds/linux/blob/v6.0/Documentation/ABI/testing/sysfs-bus-pci#L344-L355\n",
      "2024-01-25 21:05:35.177803: I external/local_xla/xla/stream_executor/cuda/cuda_executor.cc:901] successful NUMA node read from SysFS had negative value (-1), but there must be at least one NUMA node, so returning NUMA node zero. See more at https://github.com/torvalds/linux/blob/v6.0/Documentation/ABI/testing/sysfs-bus-pci#L344-L355\n",
      "2024-01-25 21:05:35.178306: I external/local_xla/xla/stream_executor/cuda/cuda_executor.cc:901] successful NUMA node read from SysFS had negative value (-1), but there must be at least one NUMA node, so returning NUMA node zero. See more at https://github.com/torvalds/linux/blob/v6.0/Documentation/ABI/testing/sysfs-bus-pci#L344-L355\n",
      "Running tests under Python 3.10.12: /usr/bin/python3\n",
      "[ RUN      ] ModelBuilderTF2Test.test_create_center_net_deepmac\n",
      "2024-01-25 21:05:35.188224: I external/local_xla/xla/stream_executor/cuda/cuda_executor.cc:901] successful NUMA node read from SysFS had negative value (-1), but there must be at least one NUMA node, so returning NUMA node zero. See more at https://github.com/torvalds/linux/blob/v6.0/Documentation/ABI/testing/sysfs-bus-pci#L344-L355\n",
      "2024-01-25 21:05:35.188664: I external/local_xla/xla/stream_executor/cuda/cuda_executor.cc:901] successful NUMA node read from SysFS had negative value (-1), but there must be at least one NUMA node, so returning NUMA node zero. See more at https://github.com/torvalds/linux/blob/v6.0/Documentation/ABI/testing/sysfs-bus-pci#L344-L355\n",
      "2024-01-25 21:05:35.188995: I external/local_xla/xla/stream_executor/cuda/cuda_executor.cc:901] successful NUMA node read from SysFS had negative value (-1), but there must be at least one NUMA node, so returning NUMA node zero. See more at https://github.com/torvalds/linux/blob/v6.0/Documentation/ABI/testing/sysfs-bus-pci#L344-L355\n",
      "2024-01-25 21:05:35.315206: I external/local_xla/xla/stream_executor/cuda/cuda_executor.cc:901] successful NUMA node read from SysFS had negative value (-1), but there must be at least one NUMA node, so returning NUMA node zero. See more at https://github.com/torvalds/linux/blob/v6.0/Documentation/ABI/testing/sysfs-bus-pci#L344-L355\n",
      "2024-01-25 21:05:35.315540: I external/local_xla/xla/stream_executor/cuda/cuda_executor.cc:901] successful NUMA node read from SysFS had negative value (-1), but there must be at least one NUMA node, so returning NUMA node zero. See more at https://github.com/torvalds/linux/blob/v6.0/Documentation/ABI/testing/sysfs-bus-pci#L344-L355\n",
      "2024-01-25 21:05:35.315700: W tensorflow/core/common_runtime/gpu/gpu_bfc_allocator.cc:47] Overriding orig_value setting because the TF_FORCE_GPU_ALLOW_GROWTH environment variable is set. Original config value was 0.\n",
      "2024-01-25 21:05:35.315817: I external/local_xla/xla/stream_executor/cuda/cuda_executor.cc:901] successful NUMA node read from SysFS had negative value (-1), but there must be at least one NUMA node, so returning NUMA node zero. See more at https://github.com/torvalds/linux/blob/v6.0/Documentation/ABI/testing/sysfs-bus-pci#L344-L355\n",
      "2024-01-25 21:05:35.315970: I tensorflow/core/common_runtime/gpu/gpu_device.cc:1929] Created device /job:localhost/replica:0/task:0/device:GPU:0 with 13949 MB memory:  -> device: 0, name: Tesla T4, pci bus id: 0000:00:04.0, compute capability: 7.5\n",
      "WARNING:tensorflow:`tf.keras.layers.experimental.SyncBatchNormalization` endpoint is deprecated and will be removed in a future release. Please use `tf.keras.layers.BatchNormalization` with parameter `synchronized` set to True.\n",
      "W0125 21:05:35.345597 137501838647936 batch_normalization.py:1531] `tf.keras.layers.experimental.SyncBatchNormalization` endpoint is deprecated and will be removed in a future release. Please use `tf.keras.layers.BatchNormalization` with parameter `synchronized` set to True.\n",
      "W0125 21:05:35.630937 137501838647936 model_builder.py:1112] Building experimental DeepMAC meta-arch. Some features may be omitted.\n",
      "INFO:tensorflow:time(__main__.ModelBuilderTF2Test.test_create_center_net_deepmac): 0.76s\n",
      "I0125 21:05:35.944494 137501838647936 test_util.py:2574] time(__main__.ModelBuilderTF2Test.test_create_center_net_deepmac): 0.76s\n",
      "[       OK ] ModelBuilderTF2Test.test_create_center_net_deepmac\n",
      "[ RUN      ] ModelBuilderTF2Test.test_create_center_net_model0 (customize_head_params=True)\n",
      "INFO:tensorflow:time(__main__.ModelBuilderTF2Test.test_create_center_net_model0 (customize_head_params=True)): 0.63s\n",
      "I0125 21:05:36.576761 137501838647936 test_util.py:2574] time(__main__.ModelBuilderTF2Test.test_create_center_net_model0 (customize_head_params=True)): 0.63s\n",
      "[       OK ] ModelBuilderTF2Test.test_create_center_net_model0 (customize_head_params=True)\n",
      "[ RUN      ] ModelBuilderTF2Test.test_create_center_net_model1 (customize_head_params=False)\n",
      "INFO:tensorflow:time(__main__.ModelBuilderTF2Test.test_create_center_net_model1 (customize_head_params=False)): 0.53s\n",
      "I0125 21:05:37.111039 137501838647936 test_util.py:2574] time(__main__.ModelBuilderTF2Test.test_create_center_net_model1 (customize_head_params=False)): 0.53s\n",
      "[       OK ] ModelBuilderTF2Test.test_create_center_net_model1 (customize_head_params=False)\n",
      "[ RUN      ] ModelBuilderTF2Test.test_create_center_net_model_from_keypoints\n",
      "INFO:tensorflow:time(__main__.ModelBuilderTF2Test.test_create_center_net_model_from_keypoints): 0.66s\n",
      "I0125 21:05:37.767443 137501838647936 test_util.py:2574] time(__main__.ModelBuilderTF2Test.test_create_center_net_model_from_keypoints): 0.66s\n",
      "[       OK ] ModelBuilderTF2Test.test_create_center_net_model_from_keypoints\n",
      "[ RUN      ] ModelBuilderTF2Test.test_create_center_net_model_mobilenet\n",
      "INFO:tensorflow:time(__main__.ModelBuilderTF2Test.test_create_center_net_model_mobilenet): 2.4s\n",
      "I0125 21:05:40.169709 137501838647936 test_util.py:2574] time(__main__.ModelBuilderTF2Test.test_create_center_net_model_mobilenet): 2.4s\n",
      "[       OK ] ModelBuilderTF2Test.test_create_center_net_model_mobilenet\n",
      "[ RUN      ] ModelBuilderTF2Test.test_create_experimental_model\n",
      "INFO:tensorflow:time(__main__.ModelBuilderTF2Test.test_create_experimental_model): 0.0s\n",
      "I0125 21:05:40.182149 137501838647936 test_util.py:2574] time(__main__.ModelBuilderTF2Test.test_create_experimental_model): 0.0s\n",
      "[       OK ] ModelBuilderTF2Test.test_create_experimental_model\n",
      "[ RUN      ] ModelBuilderTF2Test.test_create_faster_rcnn_from_config_with_crop_feature0 (True)\n",
      "INFO:tensorflow:time(__main__.ModelBuilderTF2Test.test_create_faster_rcnn_from_config_with_crop_feature0 (True)): 0.03s\n",
      "I0125 21:05:40.209399 137501838647936 test_util.py:2574] time(__main__.ModelBuilderTF2Test.test_create_faster_rcnn_from_config_with_crop_feature0 (True)): 0.03s\n",
      "[       OK ] ModelBuilderTF2Test.test_create_faster_rcnn_from_config_with_crop_feature0 (True)\n",
      "[ RUN      ] ModelBuilderTF2Test.test_create_faster_rcnn_from_config_with_crop_feature1 (False)\n",
      "INFO:tensorflow:time(__main__.ModelBuilderTF2Test.test_create_faster_rcnn_from_config_with_crop_feature1 (False)): 0.02s\n",
      "I0125 21:05:40.225897 137501838647936 test_util.py:2574] time(__main__.ModelBuilderTF2Test.test_create_faster_rcnn_from_config_with_crop_feature1 (False)): 0.02s\n",
      "[       OK ] ModelBuilderTF2Test.test_create_faster_rcnn_from_config_with_crop_feature1 (False)\n",
      "[ RUN      ] ModelBuilderTF2Test.test_create_faster_rcnn_model_from_config_with_example_miner\n",
      "INFO:tensorflow:time(__main__.ModelBuilderTF2Test.test_create_faster_rcnn_model_from_config_with_example_miner): 0.02s\n",
      "I0125 21:05:40.244252 137501838647936 test_util.py:2574] time(__main__.ModelBuilderTF2Test.test_create_faster_rcnn_model_from_config_with_example_miner): 0.02s\n",
      "[       OK ] ModelBuilderTF2Test.test_create_faster_rcnn_model_from_config_with_example_miner\n",
      "[ RUN      ] ModelBuilderTF2Test.test_create_faster_rcnn_models_from_config_faster_rcnn_with_matmul\n",
      "INFO:tensorflow:time(__main__.ModelBuilderTF2Test.test_create_faster_rcnn_models_from_config_faster_rcnn_with_matmul): 0.11s\n",
      "I0125 21:05:40.352581 137501838647936 test_util.py:2574] time(__main__.ModelBuilderTF2Test.test_create_faster_rcnn_models_from_config_faster_rcnn_with_matmul): 0.11s\n",
      "[       OK ] ModelBuilderTF2Test.test_create_faster_rcnn_models_from_config_faster_rcnn_with_matmul\n",
      "[ RUN      ] ModelBuilderTF2Test.test_create_faster_rcnn_models_from_config_faster_rcnn_without_matmul\n",
      "INFO:tensorflow:time(__main__.ModelBuilderTF2Test.test_create_faster_rcnn_models_from_config_faster_rcnn_without_matmul): 0.11s\n",
      "I0125 21:05:40.460014 137501838647936 test_util.py:2574] time(__main__.ModelBuilderTF2Test.test_create_faster_rcnn_models_from_config_faster_rcnn_without_matmul): 0.11s\n",
      "[       OK ] ModelBuilderTF2Test.test_create_faster_rcnn_models_from_config_faster_rcnn_without_matmul\n",
      "[ RUN      ] ModelBuilderTF2Test.test_create_faster_rcnn_models_from_config_mask_rcnn_with_matmul\n",
      "INFO:tensorflow:time(__main__.ModelBuilderTF2Test.test_create_faster_rcnn_models_from_config_mask_rcnn_with_matmul): 0.1s\n",
      "I0125 21:05:40.564363 137501838647936 test_util.py:2574] time(__main__.ModelBuilderTF2Test.test_create_faster_rcnn_models_from_config_mask_rcnn_with_matmul): 0.1s\n",
      "[       OK ] ModelBuilderTF2Test.test_create_faster_rcnn_models_from_config_mask_rcnn_with_matmul\n",
      "[ RUN      ] ModelBuilderTF2Test.test_create_faster_rcnn_models_from_config_mask_rcnn_without_matmul\n",
      "INFO:tensorflow:time(__main__.ModelBuilderTF2Test.test_create_faster_rcnn_models_from_config_mask_rcnn_without_matmul): 0.11s\n",
      "I0125 21:05:40.673738 137501838647936 test_util.py:2574] time(__main__.ModelBuilderTF2Test.test_create_faster_rcnn_models_from_config_mask_rcnn_without_matmul): 0.11s\n",
      "[       OK ] ModelBuilderTF2Test.test_create_faster_rcnn_models_from_config_mask_rcnn_without_matmul\n",
      "[ RUN      ] ModelBuilderTF2Test.test_create_rfcn_model_from_config\n",
      "INFO:tensorflow:time(__main__.ModelBuilderTF2Test.test_create_rfcn_model_from_config): 0.11s\n",
      "I0125 21:05:40.788166 137501838647936 test_util.py:2574] time(__main__.ModelBuilderTF2Test.test_create_rfcn_model_from_config): 0.11s\n",
      "[       OK ] ModelBuilderTF2Test.test_create_rfcn_model_from_config\n",
      "[ RUN      ] ModelBuilderTF2Test.test_create_ssd_fpn_model_from_config\n",
      "INFO:tensorflow:time(__main__.ModelBuilderTF2Test.test_create_ssd_fpn_model_from_config): 0.03s\n",
      "I0125 21:05:40.819597 137501838647936 test_util.py:2574] time(__main__.ModelBuilderTF2Test.test_create_ssd_fpn_model_from_config): 0.03s\n",
      "[       OK ] ModelBuilderTF2Test.test_create_ssd_fpn_model_from_config\n",
      "[ RUN      ] ModelBuilderTF2Test.test_create_ssd_models_from_config\n",
      "I0125 21:05:41.024177 137501838647936 ssd_efficientnet_bifpn_feature_extractor.py:161] EfficientDet EfficientNet backbone version: efficientnet-b0\n",
      "I0125 21:05:41.024331 137501838647936 ssd_efficientnet_bifpn_feature_extractor.py:163] EfficientDet BiFPN num filters: 64\n",
      "I0125 21:05:41.024413 137501838647936 ssd_efficientnet_bifpn_feature_extractor.py:164] EfficientDet BiFPN num iterations: 3\n",
      "I0125 21:05:41.027003 137501838647936 efficientnet_model.py:143] round_filter input=32 output=32\n",
      "I0125 21:05:41.057437 137501838647936 efficientnet_model.py:143] round_filter input=32 output=32\n",
      "I0125 21:05:41.057550 137501838647936 efficientnet_model.py:143] round_filter input=16 output=16\n",
      "I0125 21:05:41.138480 137501838647936 efficientnet_model.py:143] round_filter input=16 output=16\n",
      "I0125 21:05:41.138650 137501838647936 efficientnet_model.py:143] round_filter input=24 output=24\n",
      "I0125 21:05:41.359908 137501838647936 efficientnet_model.py:143] round_filter input=24 output=24\n",
      "I0125 21:05:41.360061 137501838647936 efficientnet_model.py:143] round_filter input=40 output=40\n",
      "I0125 21:05:41.564497 137501838647936 efficientnet_model.py:143] round_filter input=40 output=40\n",
      "I0125 21:05:41.564663 137501838647936 efficientnet_model.py:143] round_filter input=80 output=80\n",
      "I0125 21:05:41.881128 137501838647936 efficientnet_model.py:143] round_filter input=80 output=80\n",
      "I0125 21:05:41.881282 137501838647936 efficientnet_model.py:143] round_filter input=112 output=112\n",
      "I0125 21:05:42.198073 137501838647936 efficientnet_model.py:143] round_filter input=112 output=112\n",
      "I0125 21:05:42.198252 137501838647936 efficientnet_model.py:143] round_filter input=192 output=192\n",
      "I0125 21:05:42.603031 137501838647936 efficientnet_model.py:143] round_filter input=192 output=192\n",
      "I0125 21:05:42.603193 137501838647936 efficientnet_model.py:143] round_filter input=320 output=320\n",
      "I0125 21:05:42.702009 137501838647936 efficientnet_model.py:143] round_filter input=1280 output=1280\n",
      "I0125 21:05:42.748067 137501838647936 efficientnet_model.py:453] Building model efficientnet with params ModelConfig(width_coefficient=1.0, depth_coefficient=1.0, resolution=224, dropout_rate=0.2, blocks=(BlockConfig(input_filters=32, output_filters=16, kernel_size=3, num_repeat=1, expand_ratio=1, strides=(1, 1), se_ratio=0.25, id_skip=True, fused_conv=False, conv_type='depthwise'), BlockConfig(input_filters=16, output_filters=24, kernel_size=3, num_repeat=2, expand_ratio=6, strides=(2, 2), se_ratio=0.25, id_skip=True, fused_conv=False, conv_type='depthwise'), BlockConfig(input_filters=24, output_filters=40, kernel_size=5, num_repeat=2, expand_ratio=6, strides=(2, 2), se_ratio=0.25, id_skip=True, fused_conv=False, conv_type='depthwise'), BlockConfig(input_filters=40, output_filters=80, kernel_size=3, num_repeat=3, expand_ratio=6, strides=(2, 2), se_ratio=0.25, id_skip=True, fused_conv=False, conv_type='depthwise'), BlockConfig(input_filters=80, output_filters=112, kernel_size=5, num_repeat=3, expand_ratio=6, strides=(1, 1), se_ratio=0.25, id_skip=True, fused_conv=False, conv_type='depthwise'), BlockConfig(input_filters=112, output_filters=192, kernel_size=5, num_repeat=4, expand_ratio=6, strides=(2, 2), se_ratio=0.25, id_skip=True, fused_conv=False, conv_type='depthwise'), BlockConfig(input_filters=192, output_filters=320, kernel_size=3, num_repeat=1, expand_ratio=6, strides=(1, 1), se_ratio=0.25, id_skip=True, fused_conv=False, conv_type='depthwise')), stem_base_filters=32, top_base_filters=1280, activation='simple_swish', batch_norm='default', bn_momentum=0.99, bn_epsilon=0.001, weight_decay=5e-06, drop_connect_rate=0.2, depth_divisor=8, min_depth=None, use_se=True, input_channels=3, num_classes=1000, model_name='efficientnet', rescale_input=False, data_format='channels_last', dtype='float32')\n",
      "I0125 21:05:42.813330 137501838647936 ssd_efficientnet_bifpn_feature_extractor.py:161] EfficientDet EfficientNet backbone version: efficientnet-b1\n",
      "I0125 21:05:42.813478 137501838647936 ssd_efficientnet_bifpn_feature_extractor.py:163] EfficientDet BiFPN num filters: 88\n",
      "I0125 21:05:42.813557 137501838647936 ssd_efficientnet_bifpn_feature_extractor.py:164] EfficientDet BiFPN num iterations: 4\n",
      "I0125 21:05:42.815515 137501838647936 efficientnet_model.py:143] round_filter input=32 output=32\n",
      "I0125 21:05:42.833502 137501838647936 efficientnet_model.py:143] round_filter input=32 output=32\n",
      "I0125 21:05:42.833605 137501838647936 efficientnet_model.py:143] round_filter input=16 output=16\n",
      "I0125 21:05:42.986217 137501838647936 efficientnet_model.py:143] round_filter input=16 output=16\n",
      "I0125 21:05:42.986365 137501838647936 efficientnet_model.py:143] round_filter input=24 output=24\n",
      "I0125 21:05:43.250940 137501838647936 efficientnet_model.py:143] round_filter input=24 output=24\n",
      "I0125 21:05:43.251098 137501838647936 efficientnet_model.py:143] round_filter input=40 output=40\n",
      "I0125 21:05:43.720197 137501838647936 efficientnet_model.py:143] round_filter input=40 output=40\n",
      "I0125 21:05:43.720351 137501838647936 efficientnet_model.py:143] round_filter input=80 output=80\n",
      "I0125 21:05:44.087260 137501838647936 efficientnet_model.py:143] round_filter input=80 output=80\n",
      "I0125 21:05:44.087410 137501838647936 efficientnet_model.py:143] round_filter input=112 output=112\n",
      "I0125 21:05:44.442280 137501838647936 efficientnet_model.py:143] round_filter input=112 output=112\n",
      "I0125 21:05:44.442439 137501838647936 efficientnet_model.py:143] round_filter input=192 output=192\n",
      "I0125 21:05:44.889007 137501838647936 efficientnet_model.py:143] round_filter input=192 output=192\n",
      "I0125 21:05:44.889165 137501838647936 efficientnet_model.py:143] round_filter input=320 output=320\n",
      "I0125 21:05:45.076099 137501838647936 efficientnet_model.py:143] round_filter input=1280 output=1280\n",
      "I0125 21:05:45.108119 137501838647936 efficientnet_model.py:453] Building model efficientnet with params ModelConfig(width_coefficient=1.0, depth_coefficient=1.1, resolution=240, dropout_rate=0.2, blocks=(BlockConfig(input_filters=32, output_filters=16, kernel_size=3, num_repeat=1, expand_ratio=1, strides=(1, 1), se_ratio=0.25, id_skip=True, fused_conv=False, conv_type='depthwise'), BlockConfig(input_filters=16, output_filters=24, kernel_size=3, num_repeat=2, expand_ratio=6, strides=(2, 2), se_ratio=0.25, id_skip=True, fused_conv=False, conv_type='depthwise'), BlockConfig(input_filters=24, output_filters=40, kernel_size=5, num_repeat=2, expand_ratio=6, strides=(2, 2), se_ratio=0.25, id_skip=True, fused_conv=False, conv_type='depthwise'), BlockConfig(input_filters=40, output_filters=80, kernel_size=3, num_repeat=3, expand_ratio=6, strides=(2, 2), se_ratio=0.25, id_skip=True, fused_conv=False, conv_type='depthwise'), BlockConfig(input_filters=80, output_filters=112, kernel_size=5, num_repeat=3, expand_ratio=6, strides=(1, 1), se_ratio=0.25, id_skip=True, fused_conv=False, conv_type='depthwise'), BlockConfig(input_filters=112, output_filters=192, kernel_size=5, num_repeat=4, expand_ratio=6, strides=(2, 2), se_ratio=0.25, id_skip=True, fused_conv=False, conv_type='depthwise'), BlockConfig(input_filters=192, output_filters=320, kernel_size=3, num_repeat=1, expand_ratio=6, strides=(1, 1), se_ratio=0.25, id_skip=True, fused_conv=False, conv_type='depthwise')), stem_base_filters=32, top_base_filters=1280, activation='simple_swish', batch_norm='default', bn_momentum=0.99, bn_epsilon=0.001, weight_decay=5e-06, drop_connect_rate=0.2, depth_divisor=8, min_depth=None, use_se=True, input_channels=3, num_classes=1000, model_name='efficientnet', rescale_input=False, data_format='channels_last', dtype='float32')\n",
      "I0125 21:05:45.171413 137501838647936 ssd_efficientnet_bifpn_feature_extractor.py:161] EfficientDet EfficientNet backbone version: efficientnet-b2\n",
      "I0125 21:05:45.171582 137501838647936 ssd_efficientnet_bifpn_feature_extractor.py:163] EfficientDet BiFPN num filters: 112\n",
      "I0125 21:05:45.171671 137501838647936 ssd_efficientnet_bifpn_feature_extractor.py:164] EfficientDet BiFPN num iterations: 5\n",
      "I0125 21:05:45.175039 137501838647936 efficientnet_model.py:143] round_filter input=32 output=32\n",
      "I0125 21:05:45.193308 137501838647936 efficientnet_model.py:143] round_filter input=32 output=32\n",
      "I0125 21:05:45.193418 137501838647936 efficientnet_model.py:143] round_filter input=16 output=16\n",
      "I0125 21:05:45.329060 137501838647936 efficientnet_model.py:143] round_filter input=16 output=16\n",
      "I0125 21:05:45.329181 137501838647936 efficientnet_model.py:143] round_filter input=24 output=24\n",
      "I0125 21:05:45.587380 137501838647936 efficientnet_model.py:143] round_filter input=24 output=24\n",
      "I0125 21:05:45.587541 137501838647936 efficientnet_model.py:143] round_filter input=40 output=48\n",
      "I0125 21:05:45.888414 137501838647936 efficientnet_model.py:143] round_filter input=40 output=48\n",
      "I0125 21:05:45.888573 137501838647936 efficientnet_model.py:143] round_filter input=80 output=88\n",
      "I0125 21:05:46.306164 137501838647936 efficientnet_model.py:143] round_filter input=80 output=88\n",
      "I0125 21:05:46.306321 137501838647936 efficientnet_model.py:143] round_filter input=112 output=120\n",
      "I0125 21:05:46.718366 137501838647936 efficientnet_model.py:143] round_filter input=112 output=120\n",
      "I0125 21:05:46.718522 137501838647936 efficientnet_model.py:143] round_filter input=192 output=208\n",
      "I0125 21:05:47.232532 137501838647936 efficientnet_model.py:143] round_filter input=192 output=208\n",
      "I0125 21:05:47.232701 137501838647936 efficientnet_model.py:143] round_filter input=320 output=352\n",
      "I0125 21:05:47.442564 137501838647936 efficientnet_model.py:143] round_filter input=1280 output=1408\n",
      "I0125 21:05:47.487002 137501838647936 efficientnet_model.py:453] Building model efficientnet with params ModelConfig(width_coefficient=1.1, depth_coefficient=1.2, resolution=260, dropout_rate=0.3, blocks=(BlockConfig(input_filters=32, output_filters=16, kernel_size=3, num_repeat=1, expand_ratio=1, strides=(1, 1), se_ratio=0.25, id_skip=True, fused_conv=False, conv_type='depthwise'), BlockConfig(input_filters=16, output_filters=24, kernel_size=3, num_repeat=2, expand_ratio=6, strides=(2, 2), se_ratio=0.25, id_skip=True, fused_conv=False, conv_type='depthwise'), BlockConfig(input_filters=24, output_filters=40, kernel_size=5, num_repeat=2, expand_ratio=6, strides=(2, 2), se_ratio=0.25, id_skip=True, fused_conv=False, conv_type='depthwise'), BlockConfig(input_filters=40, output_filters=80, kernel_size=3, num_repeat=3, expand_ratio=6, strides=(2, 2), se_ratio=0.25, id_skip=True, fused_conv=False, conv_type='depthwise'), BlockConfig(input_filters=80, output_filters=112, kernel_size=5, num_repeat=3, expand_ratio=6, strides=(1, 1), se_ratio=0.25, id_skip=True, fused_conv=False, conv_type='depthwise'), BlockConfig(input_filters=112, output_filters=192, kernel_size=5, num_repeat=4, expand_ratio=6, strides=(2, 2), se_ratio=0.25, id_skip=True, fused_conv=False, conv_type='depthwise'), BlockConfig(input_filters=192, output_filters=320, kernel_size=3, num_repeat=1, expand_ratio=6, strides=(1, 1), se_ratio=0.25, id_skip=True, fused_conv=False, conv_type='depthwise')), stem_base_filters=32, top_base_filters=1280, activation='simple_swish', batch_norm='default', bn_momentum=0.99, bn_epsilon=0.001, weight_decay=5e-06, drop_connect_rate=0.2, depth_divisor=8, min_depth=None, use_se=True, input_channels=3, num_classes=1000, model_name='efficientnet', rescale_input=False, data_format='channels_last', dtype='float32')\n",
      "I0125 21:05:47.553256 137501838647936 ssd_efficientnet_bifpn_feature_extractor.py:161] EfficientDet EfficientNet backbone version: efficientnet-b3\n",
      "I0125 21:05:47.553416 137501838647936 ssd_efficientnet_bifpn_feature_extractor.py:163] EfficientDet BiFPN num filters: 160\n",
      "I0125 21:05:47.553487 137501838647936 ssd_efficientnet_bifpn_feature_extractor.py:164] EfficientDet BiFPN num iterations: 6\n",
      "I0125 21:05:47.555695 137501838647936 efficientnet_model.py:143] round_filter input=32 output=40\n",
      "I0125 21:05:47.578492 137501838647936 efficientnet_model.py:143] round_filter input=32 output=40\n",
      "I0125 21:05:47.578608 137501838647936 efficientnet_model.py:143] round_filter input=16 output=24\n",
      "I0125 21:05:47.745369 137501838647936 efficientnet_model.py:143] round_filter input=16 output=24\n",
      "I0125 21:05:47.745532 137501838647936 efficientnet_model.py:143] round_filter input=24 output=32\n",
      "I0125 21:05:48.073173 137501838647936 efficientnet_model.py:143] round_filter input=24 output=32\n",
      "I0125 21:05:48.073335 137501838647936 efficientnet_model.py:143] round_filter input=40 output=48\n",
      "I0125 21:05:48.384041 137501838647936 efficientnet_model.py:143] round_filter input=40 output=48\n",
      "I0125 21:05:48.384253 137501838647936 efficientnet_model.py:143] round_filter input=80 output=96\n",
      "I0125 21:05:49.082915 137501838647936 efficientnet_model.py:143] round_filter input=80 output=96\n",
      "I0125 21:05:49.083116 137501838647936 efficientnet_model.py:143] round_filter input=112 output=136\n",
      "I0125 21:05:49.799613 137501838647936 efficientnet_model.py:143] round_filter input=112 output=136\n",
      "I0125 21:05:49.799829 137501838647936 efficientnet_model.py:143] round_filter input=192 output=232\n",
      "I0125 21:05:50.532701 137501838647936 efficientnet_model.py:143] round_filter input=192 output=232\n",
      "I0125 21:05:50.532855 137501838647936 efficientnet_model.py:143] round_filter input=320 output=384\n",
      "I0125 21:05:50.736474 137501838647936 efficientnet_model.py:143] round_filter input=1280 output=1536\n",
      "I0125 21:05:50.776087 137501838647936 efficientnet_model.py:453] Building model efficientnet with params ModelConfig(width_coefficient=1.2, depth_coefficient=1.4, resolution=300, dropout_rate=0.3, blocks=(BlockConfig(input_filters=32, output_filters=16, kernel_size=3, num_repeat=1, expand_ratio=1, strides=(1, 1), se_ratio=0.25, id_skip=True, fused_conv=False, conv_type='depthwise'), BlockConfig(input_filters=16, output_filters=24, kernel_size=3, num_repeat=2, expand_ratio=6, strides=(2, 2), se_ratio=0.25, id_skip=True, fused_conv=False, conv_type='depthwise'), BlockConfig(input_filters=24, output_filters=40, kernel_size=5, num_repeat=2, expand_ratio=6, strides=(2, 2), se_ratio=0.25, id_skip=True, fused_conv=False, conv_type='depthwise'), BlockConfig(input_filters=40, output_filters=80, kernel_size=3, num_repeat=3, expand_ratio=6, strides=(2, 2), se_ratio=0.25, id_skip=True, fused_conv=False, conv_type='depthwise'), BlockConfig(input_filters=80, output_filters=112, kernel_size=5, num_repeat=3, expand_ratio=6, strides=(1, 1), se_ratio=0.25, id_skip=True, fused_conv=False, conv_type='depthwise'), BlockConfig(input_filters=112, output_filters=192, kernel_size=5, num_repeat=4, expand_ratio=6, strides=(2, 2), se_ratio=0.25, id_skip=True, fused_conv=False, conv_type='depthwise'), BlockConfig(input_filters=192, output_filters=320, kernel_size=3, num_repeat=1, expand_ratio=6, strides=(1, 1), se_ratio=0.25, id_skip=True, fused_conv=False, conv_type='depthwise')), stem_base_filters=32, top_base_filters=1280, activation='simple_swish', batch_norm='default', bn_momentum=0.99, bn_epsilon=0.001, weight_decay=5e-06, drop_connect_rate=0.2, depth_divisor=8, min_depth=None, use_se=True, input_channels=3, num_classes=1000, model_name='efficientnet', rescale_input=False, data_format='channels_last', dtype='float32')\n",
      "I0125 21:05:50.847958 137501838647936 ssd_efficientnet_bifpn_feature_extractor.py:161] EfficientDet EfficientNet backbone version: efficientnet-b4\n",
      "I0125 21:05:50.848109 137501838647936 ssd_efficientnet_bifpn_feature_extractor.py:163] EfficientDet BiFPN num filters: 224\n",
      "I0125 21:05:50.848191 137501838647936 ssd_efficientnet_bifpn_feature_extractor.py:164] EfficientDet BiFPN num iterations: 7\n",
      "I0125 21:05:50.850142 137501838647936 efficientnet_model.py:143] round_filter input=32 output=48\n",
      "I0125 21:05:50.873264 137501838647936 efficientnet_model.py:143] round_filter input=32 output=48\n",
      "I0125 21:05:50.873377 137501838647936 efficientnet_model.py:143] round_filter input=16 output=24\n",
      "I0125 21:05:51.021972 137501838647936 efficientnet_model.py:143] round_filter input=16 output=24\n",
      "I0125 21:05:51.022138 137501838647936 efficientnet_model.py:143] round_filter input=24 output=32\n",
      "I0125 21:05:51.392163 137501838647936 efficientnet_model.py:143] round_filter input=24 output=32\n",
      "I0125 21:05:51.392323 137501838647936 efficientnet_model.py:143] round_filter input=40 output=56\n",
      "I0125 21:05:51.786784 137501838647936 efficientnet_model.py:143] round_filter input=40 output=56\n",
      "I0125 21:05:51.786937 137501838647936 efficientnet_model.py:143] round_filter input=80 output=112\n",
      "I0125 21:05:52.637350 137501838647936 efficientnet_model.py:143] round_filter input=80 output=112\n",
      "I0125 21:05:52.637508 137501838647936 efficientnet_model.py:143] round_filter input=112 output=160\n",
      "I0125 21:05:53.272701 137501838647936 efficientnet_model.py:143] round_filter input=112 output=160\n",
      "I0125 21:05:53.272855 137501838647936 efficientnet_model.py:143] round_filter input=192 output=272\n",
      "I0125 21:05:54.066600 137501838647936 efficientnet_model.py:143] round_filter input=192 output=272\n",
      "I0125 21:05:54.066769 137501838647936 efficientnet_model.py:143] round_filter input=320 output=448\n",
      "I0125 21:05:54.282743 137501838647936 efficientnet_model.py:143] round_filter input=1280 output=1792\n",
      "I0125 21:05:54.327314 137501838647936 efficientnet_model.py:453] Building model efficientnet with params ModelConfig(width_coefficient=1.4, depth_coefficient=1.8, resolution=380, dropout_rate=0.4, blocks=(BlockConfig(input_filters=32, output_filters=16, kernel_size=3, num_repeat=1, expand_ratio=1, strides=(1, 1), se_ratio=0.25, id_skip=True, fused_conv=False, conv_type='depthwise'), BlockConfig(input_filters=16, output_filters=24, kernel_size=3, num_repeat=2, expand_ratio=6, strides=(2, 2), se_ratio=0.25, id_skip=True, fused_conv=False, conv_type='depthwise'), BlockConfig(input_filters=24, output_filters=40, kernel_size=5, num_repeat=2, expand_ratio=6, strides=(2, 2), se_ratio=0.25, id_skip=True, fused_conv=False, conv_type='depthwise'), BlockConfig(input_filters=40, output_filters=80, kernel_size=3, num_repeat=3, expand_ratio=6, strides=(2, 2), se_ratio=0.25, id_skip=True, fused_conv=False, conv_type='depthwise'), BlockConfig(input_filters=80, output_filters=112, kernel_size=5, num_repeat=3, expand_ratio=6, strides=(1, 1), se_ratio=0.25, id_skip=True, fused_conv=False, conv_type='depthwise'), BlockConfig(input_filters=112, output_filters=192, kernel_size=5, num_repeat=4, expand_ratio=6, strides=(2, 2), se_ratio=0.25, id_skip=True, fused_conv=False, conv_type='depthwise'), BlockConfig(input_filters=192, output_filters=320, kernel_size=3, num_repeat=1, expand_ratio=6, strides=(1, 1), se_ratio=0.25, id_skip=True, fused_conv=False, conv_type='depthwise')), stem_base_filters=32, top_base_filters=1280, activation='simple_swish', batch_norm='default', bn_momentum=0.99, bn_epsilon=0.001, weight_decay=5e-06, drop_connect_rate=0.2, depth_divisor=8, min_depth=None, use_se=True, input_channels=3, num_classes=1000, model_name='efficientnet', rescale_input=False, data_format='channels_last', dtype='float32')\n",
      "I0125 21:05:54.407250 137501838647936 ssd_efficientnet_bifpn_feature_extractor.py:161] EfficientDet EfficientNet backbone version: efficientnet-b5\n",
      "I0125 21:05:54.407393 137501838647936 ssd_efficientnet_bifpn_feature_extractor.py:163] EfficientDet BiFPN num filters: 288\n",
      "I0125 21:05:54.407471 137501838647936 ssd_efficientnet_bifpn_feature_extractor.py:164] EfficientDet BiFPN num iterations: 7\n",
      "I0125 21:05:54.409309 137501838647936 efficientnet_model.py:143] round_filter input=32 output=48\n",
      "I0125 21:05:54.426938 137501838647936 efficientnet_model.py:143] round_filter input=32 output=48\n",
      "I0125 21:05:54.427045 137501838647936 efficientnet_model.py:143] round_filter input=16 output=24\n",
      "I0125 21:05:54.646181 137501838647936 efficientnet_model.py:143] round_filter input=16 output=24\n",
      "I0125 21:05:54.646354 137501838647936 efficientnet_model.py:143] round_filter input=24 output=40\n",
      "I0125 21:05:55.145146 137501838647936 efficientnet_model.py:143] round_filter input=24 output=40\n",
      "I0125 21:05:55.145304 137501838647936 efficientnet_model.py:143] round_filter input=40 output=64\n",
      "I0125 21:05:55.656741 137501838647936 efficientnet_model.py:143] round_filter input=40 output=64\n",
      "I0125 21:05:55.656894 137501838647936 efficientnet_model.py:143] round_filter input=80 output=128\n",
      "I0125 21:05:56.385696 137501838647936 efficientnet_model.py:143] round_filter input=80 output=128\n",
      "I0125 21:05:56.385853 137501838647936 efficientnet_model.py:143] round_filter input=112 output=176\n",
      "I0125 21:05:57.102575 137501838647936 efficientnet_model.py:143] round_filter input=112 output=176\n",
      "I0125 21:05:57.102749 137501838647936 efficientnet_model.py:143] round_filter input=192 output=304\n",
      "I0125 21:05:58.028035 137501838647936 efficientnet_model.py:143] round_filter input=192 output=304\n",
      "I0125 21:05:58.028191 137501838647936 efficientnet_model.py:143] round_filter input=320 output=512\n",
      "I0125 21:05:58.350634 137501838647936 efficientnet_model.py:143] round_filter input=1280 output=2048\n",
      "I0125 21:05:58.393407 137501838647936 efficientnet_model.py:453] Building model efficientnet with params ModelConfig(width_coefficient=1.6, depth_coefficient=2.2, resolution=456, dropout_rate=0.4, blocks=(BlockConfig(input_filters=32, output_filters=16, kernel_size=3, num_repeat=1, expand_ratio=1, strides=(1, 1), se_ratio=0.25, id_skip=True, fused_conv=False, conv_type='depthwise'), BlockConfig(input_filters=16, output_filters=24, kernel_size=3, num_repeat=2, expand_ratio=6, strides=(2, 2), se_ratio=0.25, id_skip=True, fused_conv=False, conv_type='depthwise'), BlockConfig(input_filters=24, output_filters=40, kernel_size=5, num_repeat=2, expand_ratio=6, strides=(2, 2), se_ratio=0.25, id_skip=True, fused_conv=False, conv_type='depthwise'), BlockConfig(input_filters=40, output_filters=80, kernel_size=3, num_repeat=3, expand_ratio=6, strides=(2, 2), se_ratio=0.25, id_skip=True, fused_conv=False, conv_type='depthwise'), BlockConfig(input_filters=80, output_filters=112, kernel_size=5, num_repeat=3, expand_ratio=6, strides=(1, 1), se_ratio=0.25, id_skip=True, fused_conv=False, conv_type='depthwise'), BlockConfig(input_filters=112, output_filters=192, kernel_size=5, num_repeat=4, expand_ratio=6, strides=(2, 2), se_ratio=0.25, id_skip=True, fused_conv=False, conv_type='depthwise'), BlockConfig(input_filters=192, output_filters=320, kernel_size=3, num_repeat=1, expand_ratio=6, strides=(1, 1), se_ratio=0.25, id_skip=True, fused_conv=False, conv_type='depthwise')), stem_base_filters=32, top_base_filters=1280, activation='simple_swish', batch_norm='default', bn_momentum=0.99, bn_epsilon=0.001, weight_decay=5e-06, drop_connect_rate=0.2, depth_divisor=8, min_depth=None, use_se=True, input_channels=3, num_classes=1000, model_name='efficientnet', rescale_input=False, data_format='channels_last', dtype='float32')\n",
      "I0125 21:05:58.485431 137501838647936 ssd_efficientnet_bifpn_feature_extractor.py:161] EfficientDet EfficientNet backbone version: efficientnet-b6\n",
      "I0125 21:05:58.485580 137501838647936 ssd_efficientnet_bifpn_feature_extractor.py:163] EfficientDet BiFPN num filters: 384\n",
      "I0125 21:05:58.485663 137501838647936 ssd_efficientnet_bifpn_feature_extractor.py:164] EfficientDet BiFPN num iterations: 8\n",
      "I0125 21:05:58.487508 137501838647936 efficientnet_model.py:143] round_filter input=32 output=56\n",
      "I0125 21:05:58.510091 137501838647936 efficientnet_model.py:143] round_filter input=32 output=56\n",
      "I0125 21:05:58.510197 137501838647936 efficientnet_model.py:143] round_filter input=16 output=32\n",
      "I0125 21:05:58.756867 137501838647936 efficientnet_model.py:143] round_filter input=16 output=32\n",
      "I0125 21:05:58.757021 137501838647936 efficientnet_model.py:143] round_filter input=24 output=40\n",
      "I0125 21:05:59.301506 137501838647936 efficientnet_model.py:143] round_filter input=24 output=40\n",
      "I0125 21:05:59.301671 137501838647936 efficientnet_model.py:143] round_filter input=40 output=72\n",
      "I0125 21:05:59.889641 137501838647936 efficientnet_model.py:143] round_filter input=40 output=72\n",
      "I0125 21:05:59.889813 137501838647936 efficientnet_model.py:143] round_filter input=80 output=144\n",
      "I0125 21:06:00.957456 137501838647936 efficientnet_model.py:143] round_filter input=80 output=144\n",
      "I0125 21:06:00.957649 137501838647936 efficientnet_model.py:143] round_filter input=112 output=200\n",
      "I0125 21:06:02.326697 137501838647936 efficientnet_model.py:143] round_filter input=112 output=200\n",
      "I0125 21:06:02.326892 137501838647936 efficientnet_model.py:143] round_filter input=192 output=344\n",
      "I0125 21:06:03.488612 137501838647936 efficientnet_model.py:143] round_filter input=192 output=344\n",
      "I0125 21:06:03.488783 137501838647936 efficientnet_model.py:143] round_filter input=320 output=576\n",
      "I0125 21:06:03.794501 137501838647936 efficientnet_model.py:143] round_filter input=1280 output=2304\n",
      "I0125 21:06:03.833459 137501838647936 efficientnet_model.py:453] Building model efficientnet with params ModelConfig(width_coefficient=1.8, depth_coefficient=2.6, resolution=528, dropout_rate=0.5, blocks=(BlockConfig(input_filters=32, output_filters=16, kernel_size=3, num_repeat=1, expand_ratio=1, strides=(1, 1), se_ratio=0.25, id_skip=True, fused_conv=False, conv_type='depthwise'), BlockConfig(input_filters=16, output_filters=24, kernel_size=3, num_repeat=2, expand_ratio=6, strides=(2, 2), se_ratio=0.25, id_skip=True, fused_conv=False, conv_type='depthwise'), BlockConfig(input_filters=24, output_filters=40, kernel_size=5, num_repeat=2, expand_ratio=6, strides=(2, 2), se_ratio=0.25, id_skip=True, fused_conv=False, conv_type='depthwise'), BlockConfig(input_filters=40, output_filters=80, kernel_size=3, num_repeat=3, expand_ratio=6, strides=(2, 2), se_ratio=0.25, id_skip=True, fused_conv=False, conv_type='depthwise'), BlockConfig(input_filters=80, output_filters=112, kernel_size=5, num_repeat=3, expand_ratio=6, strides=(1, 1), se_ratio=0.25, id_skip=True, fused_conv=False, conv_type='depthwise'), BlockConfig(input_filters=112, output_filters=192, kernel_size=5, num_repeat=4, expand_ratio=6, strides=(2, 2), se_ratio=0.25, id_skip=True, fused_conv=False, conv_type='depthwise'), BlockConfig(input_filters=192, output_filters=320, kernel_size=3, num_repeat=1, expand_ratio=6, strides=(1, 1), se_ratio=0.25, id_skip=True, fused_conv=False, conv_type='depthwise')), stem_base_filters=32, top_base_filters=1280, activation='simple_swish', batch_norm='default', bn_momentum=0.99, bn_epsilon=0.001, weight_decay=5e-06, drop_connect_rate=0.2, depth_divisor=8, min_depth=None, use_se=True, input_channels=3, num_classes=1000, model_name='efficientnet', rescale_input=False, data_format='channels_last', dtype='float32')\n",
      "I0125 21:06:03.937589 137501838647936 ssd_efficientnet_bifpn_feature_extractor.py:161] EfficientDet EfficientNet backbone version: efficientnet-b7\n",
      "I0125 21:06:03.937735 137501838647936 ssd_efficientnet_bifpn_feature_extractor.py:163] EfficientDet BiFPN num filters: 384\n",
      "I0125 21:06:03.937815 137501838647936 ssd_efficientnet_bifpn_feature_extractor.py:164] EfficientDet BiFPN num iterations: 8\n",
      "I0125 21:06:03.939647 137501838647936 efficientnet_model.py:143] round_filter input=32 output=64\n",
      "I0125 21:06:03.961279 137501838647936 efficientnet_model.py:143] round_filter input=32 output=64\n",
      "I0125 21:06:03.961385 137501838647936 efficientnet_model.py:143] round_filter input=16 output=32\n",
      "I0125 21:06:04.263271 137501838647936 efficientnet_model.py:143] round_filter input=16 output=32\n",
      "I0125 21:06:04.263429 137501838647936 efficientnet_model.py:143] round_filter input=24 output=48\n",
      "I0125 21:06:04.966637 137501838647936 efficientnet_model.py:143] round_filter input=24 output=48\n",
      "I0125 21:06:04.966805 137501838647936 efficientnet_model.py:143] round_filter input=40 output=80\n",
      "I0125 21:06:05.720208 137501838647936 efficientnet_model.py:143] round_filter input=40 output=80\n",
      "I0125 21:06:05.720381 137501838647936 efficientnet_model.py:143] round_filter input=80 output=160\n",
      "I0125 21:06:06.763278 137501838647936 efficientnet_model.py:143] round_filter input=80 output=160\n",
      "I0125 21:06:06.763442 137501838647936 efficientnet_model.py:143] round_filter input=112 output=224\n",
      "I0125 21:06:07.775100 137501838647936 efficientnet_model.py:143] round_filter input=112 output=224\n",
      "I0125 21:06:07.775260 137501838647936 efficientnet_model.py:143] round_filter input=192 output=384\n",
      "I0125 21:06:09.093694 137501838647936 efficientnet_model.py:143] round_filter input=192 output=384\n",
      "I0125 21:06:09.093874 137501838647936 efficientnet_model.py:143] round_filter input=320 output=640\n",
      "I0125 21:06:09.522697 137501838647936 efficientnet_model.py:143] round_filter input=1280 output=2560\n",
      "I0125 21:06:09.562376 137501838647936 efficientnet_model.py:453] Building model efficientnet with params ModelConfig(width_coefficient=2.0, depth_coefficient=3.1, resolution=600, dropout_rate=0.5, blocks=(BlockConfig(input_filters=32, output_filters=16, kernel_size=3, num_repeat=1, expand_ratio=1, strides=(1, 1), se_ratio=0.25, id_skip=True, fused_conv=False, conv_type='depthwise'), BlockConfig(input_filters=16, output_filters=24, kernel_size=3, num_repeat=2, expand_ratio=6, strides=(2, 2), se_ratio=0.25, id_skip=True, fused_conv=False, conv_type='depthwise'), BlockConfig(input_filters=24, output_filters=40, kernel_size=5, num_repeat=2, expand_ratio=6, strides=(2, 2), se_ratio=0.25, id_skip=True, fused_conv=False, conv_type='depthwise'), BlockConfig(input_filters=40, output_filters=80, kernel_size=3, num_repeat=3, expand_ratio=6, strides=(2, 2), se_ratio=0.25, id_skip=True, fused_conv=False, conv_type='depthwise'), BlockConfig(input_filters=80, output_filters=112, kernel_size=5, num_repeat=3, expand_ratio=6, strides=(1, 1), se_ratio=0.25, id_skip=True, fused_conv=False, conv_type='depthwise'), BlockConfig(input_filters=112, output_filters=192, kernel_size=5, num_repeat=4, expand_ratio=6, strides=(2, 2), se_ratio=0.25, id_skip=True, fused_conv=False, conv_type='depthwise'), BlockConfig(input_filters=192, output_filters=320, kernel_size=3, num_repeat=1, expand_ratio=6, strides=(1, 1), se_ratio=0.25, id_skip=True, fused_conv=False, conv_type='depthwise')), stem_base_filters=32, top_base_filters=1280, activation='simple_swish', batch_norm='default', bn_momentum=0.99, bn_epsilon=0.001, weight_decay=5e-06, drop_connect_rate=0.2, depth_divisor=8, min_depth=None, use_se=True, input_channels=3, num_classes=1000, model_name='efficientnet', rescale_input=False, data_format='channels_last', dtype='float32')\n",
      "INFO:tensorflow:time(__main__.ModelBuilderTF2Test.test_create_ssd_models_from_config): 28.86s\n",
      "I0125 21:06:09.683702 137501838647936 test_util.py:2574] time(__main__.ModelBuilderTF2Test.test_create_ssd_models_from_config): 28.86s\n",
      "[       OK ] ModelBuilderTF2Test.test_create_ssd_models_from_config\n",
      "[ RUN      ] ModelBuilderTF2Test.test_invalid_faster_rcnn_batchnorm_update\n",
      "INFO:tensorflow:time(__main__.ModelBuilderTF2Test.test_invalid_faster_rcnn_batchnorm_update): 0.01s\n",
      "I0125 21:06:09.850737 137501838647936 test_util.py:2574] time(__main__.ModelBuilderTF2Test.test_invalid_faster_rcnn_batchnorm_update): 0.01s\n",
      "[       OK ] ModelBuilderTF2Test.test_invalid_faster_rcnn_batchnorm_update\n",
      "[ RUN      ] ModelBuilderTF2Test.test_invalid_first_stage_nms_iou_threshold\n",
      "INFO:tensorflow:time(__main__.ModelBuilderTF2Test.test_invalid_first_stage_nms_iou_threshold): 0.0s\n",
      "I0125 21:06:09.852472 137501838647936 test_util.py:2574] time(__main__.ModelBuilderTF2Test.test_invalid_first_stage_nms_iou_threshold): 0.0s\n",
      "[       OK ] ModelBuilderTF2Test.test_invalid_first_stage_nms_iou_threshold\n",
      "[ RUN      ] ModelBuilderTF2Test.test_invalid_model_config_proto\n",
      "INFO:tensorflow:time(__main__.ModelBuilderTF2Test.test_invalid_model_config_proto): 0.0s\n",
      "I0125 21:06:09.853047 137501838647936 test_util.py:2574] time(__main__.ModelBuilderTF2Test.test_invalid_model_config_proto): 0.0s\n",
      "[       OK ] ModelBuilderTF2Test.test_invalid_model_config_proto\n",
      "[ RUN      ] ModelBuilderTF2Test.test_invalid_second_stage_batch_size\n",
      "INFO:tensorflow:time(__main__.ModelBuilderTF2Test.test_invalid_second_stage_batch_size): 0.0s\n",
      "I0125 21:06:09.854613 137501838647936 test_util.py:2574] time(__main__.ModelBuilderTF2Test.test_invalid_second_stage_batch_size): 0.0s\n",
      "[       OK ] ModelBuilderTF2Test.test_invalid_second_stage_batch_size\n",
      "[ RUN      ] ModelBuilderTF2Test.test_session\n",
      "[  SKIPPED ] ModelBuilderTF2Test.test_session\n",
      "[ RUN      ] ModelBuilderTF2Test.test_unknown_faster_rcnn_feature_extractor\n",
      "INFO:tensorflow:time(__main__.ModelBuilderTF2Test.test_unknown_faster_rcnn_feature_extractor): 0.0s\n",
      "I0125 21:06:09.855926 137501838647936 test_util.py:2574] time(__main__.ModelBuilderTF2Test.test_unknown_faster_rcnn_feature_extractor): 0.0s\n",
      "[       OK ] ModelBuilderTF2Test.test_unknown_faster_rcnn_feature_extractor\n",
      "[ RUN      ] ModelBuilderTF2Test.test_unknown_meta_architecture\n",
      "INFO:tensorflow:time(__main__.ModelBuilderTF2Test.test_unknown_meta_architecture): 0.0s\n",
      "I0125 21:06:09.856338 137501838647936 test_util.py:2574] time(__main__.ModelBuilderTF2Test.test_unknown_meta_architecture): 0.0s\n",
      "[       OK ] ModelBuilderTF2Test.test_unknown_meta_architecture\n",
      "[ RUN      ] ModelBuilderTF2Test.test_unknown_ssd_feature_extractor\n",
      "INFO:tensorflow:time(__main__.ModelBuilderTF2Test.test_unknown_ssd_feature_extractor): 0.0s\n",
      "I0125 21:06:09.857295 137501838647936 test_util.py:2574] time(__main__.ModelBuilderTF2Test.test_unknown_ssd_feature_extractor): 0.0s\n",
      "[       OK ] ModelBuilderTF2Test.test_unknown_ssd_feature_extractor\n",
      "----------------------------------------------------------------------\n",
      "Ran 24 tests in 34.675s\n",
      "\n",
      "OK (skipped=1)\n"
     ]
    }
   ],
   "source": [
    "!python /content/models/research/object_detection/builders/model_builder_tf2_test.py"
   ]
  },
  {
   "cell_type": "markdown",
   "metadata": {
    "id": "dOgMOdcmOzVc"
   },
   "source": [
    "## Load dataset from Kaggle"
   ]
  },
  {
   "cell_type": "markdown",
   "metadata": {},
   "source": [
    "Source: https://www.kaggle.com/datasets/hugozanini1/kangaroodataset"
   ]
  },
  {
   "cell_type": "code",
   "execution_count": 4,
   "metadata": {
    "id": "8HbXvlqw4IzN"
   },
   "outputs": [],
   "source": [
    "!pip install -q kaggle"
   ]
  },
  {
   "cell_type": "code",
   "execution_count": 5,
   "metadata": {
    "id": "InaLc7ec383k"
   },
   "outputs": [],
   "source": [
    "# Create a .kaggle directory and an empty kaggle.json file\n",
    "!mkdir -p ~/.kaggle\n",
    "!touch ~/.kaggle/kaggle.json\n",
    "!chmod 600 ~/.kaggle/kaggle.json"
   ]
  },
  {
   "cell_type": "code",
   "execution_count": 6,
   "metadata": {
    "id": "Mgkob_-P4IRi"
   },
   "outputs": [],
   "source": [
    "# Fill in your Kaggle user name and key\n",
    "import os\n",
    "import json\n",
    "kaggle_username = #\"FILL_IN_USERNAME\"\n",
    "kaggle_key = #\"FILL_IN_KEY\"\n",
    "\n",
    "# Save API token the kaggle.json file\n",
    "file_path = os.path.expanduser('~/.kaggle/kaggle.json')\n",
    "with open(file_path, \"w\") as f:\n",
    "    f.write(json.dumps({\"username\": kaggle_username, \"key\": kaggle_key}))"
   ]
  },
  {
   "cell_type": "code",
   "execution_count": null,
   "metadata": {
    "id": "mDal1eeB4XuM"
   },
   "outputs": [],
   "source": [
    "!ls -l ~/.kaggle/kaggle.json"
   ]
  },
  {
   "cell_type": "code",
   "execution_count": 8,
   "metadata": {
    "colab": {
     "base_uri": "https://localhost:8080/"
    },
    "id": "qBG_9zNwtBQd",
    "outputId": "1f186595-99dc-4af3-dfa5-2ae6f0c37058"
   },
   "outputs": [
    {
     "name": "stdout",
     "output_type": "stream",
     "text": [
      "Downloading kangaroodataset.zip to /content/dataset\n",
      "\n"
     ]
    },
    {
     "name": "stderr",
     "output_type": "stream",
     "text": [
      "100%|██████████| 72.6M/72.6M [00:04<00:00, 15.9MB/s]\n"
     ]
    }
   ],
   "source": [
    "%%bash\n",
    "mkdir /content/dataset\n",
    "cd /content/dataset\n",
    "kaggle datasets download -d hugozanini1/kangaroodataset --unzip"
   ]
  },
  {
   "cell_type": "markdown",
   "metadata": {
    "id": "xrT-BLUHFIe5"
   },
   "source": [
    "##### Create a `labelmap.pbtxt` file, following the pattern:\n",
    "\n",
    "\n",
    "\n",
    "```\n",
    "item {\n",
    "  name: \"kangaroo\"\n",
    "  id: 1\n",
    "}\n",
    "```\n",
    "\n"
   ]
  },
  {
   "cell_type": "code",
   "execution_count": 9,
   "metadata": {
    "colab": {
     "base_uri": "https://localhost:8080/"
    },
    "id": "zzLhDcvykSEa",
    "outputId": "85d81680-a776-444b-81e6-fb5c8ec4949d"
   },
   "outputs": [
    {
     "name": "stdout",
     "output_type": "stream",
     "text": [
      "/content\n"
     ]
    }
   ],
   "source": [
    "%cd /content/"
   ]
  },
  {
   "cell_type": "markdown",
   "metadata": {
    "id": "dToipSG3eL_J"
   },
   "source": [
    "## Generate TFRecords"
   ]
  },
  {
   "cell_type": "markdown",
   "metadata": {},
   "source": [
    "Use the `./utils/generate_tf-record.py` script to transform the images from the dataset into `TFRecords`."
   ]
  },
  {
   "cell_type": "markdown",
   "metadata": {
    "id": "p1nvJixWc0LR"
   },
   "source": [
    "Update the line 77 in the `generate_tf-records.py` script from:\n",
    "\n",
    "```python\n",
    "'image/source_id': dataset_util.bytes_feature(filename),\n",
    "```\n",
    "to:\n",
    "```python\n",
    "'image/source_id': dataset_util.bytes_feature('0'.encode('utf8')),\n",
    "```\n",
    "\n",
    "\n"
   ]
  },
  {
   "cell_type": "code",
   "execution_count": null,
   "metadata": {
    "colab": {
     "base_uri": "https://localhost:8080/"
    },
    "id": "uUKhhuFfXY-6",
    "outputId": "e3659eee-0ee7-4c05-e2c8-584577a55267"
   },
   "outputs": [],
   "source": [
    "!python generate_tf_record.py -l labelmap.txt -o dataset/train.record -i dataset/images -csv dataset/train_labels.csv\n",
    "!python generate_tf_record.py -l labelmap.txt -o dataset/test.record -i dataset/images -csv dataset/test_labels.csv"
   ]
  },
  {
   "cell_type": "markdown",
   "metadata": {
    "id": "NOXrJ-mge1ew"
   },
   "source": [
    "## Save and donwload TFRecords"
   ]
  },
  {
   "cell_type": "code",
   "execution_count": null,
   "metadata": {
    "id": "PctSEqDelSXu"
   },
   "outputs": [],
   "source": [
    "!zip -r dataset.zip ./dataset"
   ]
  }
 ],
 "metadata": {
  "accelerator": "GPU",
  "colab": {
   "gpuType": "T4",
   "provenance": []
  },
  "kernelspec": {
   "display_name": "Python 3 (ipykernel)",
   "language": "python",
   "name": "python3"
  },
  "language_info": {
   "codemirror_mode": {
    "name": "ipython",
    "version": 3
   },
   "file_extension": ".py",
   "mimetype": "text/x-python",
   "name": "python",
   "nbconvert_exporter": "python",
   "pygments_lexer": "ipython3",
   "version": "3.9.18"
  }
 },
 "nbformat": 4,
 "nbformat_minor": 4
}
